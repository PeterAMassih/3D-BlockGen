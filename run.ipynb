{
 "cells": [
  {
   "cell_type": "code",
   "execution_count": 1,
   "metadata": {},
   "outputs": [],
   "source": [
    "%load_ext autoreload\n",
    "%autoreload 2"
   ]
  },
  {
   "cell_type": "code",
   "execution_count": null,
   "metadata": {},
   "outputs": [],
   "source": [
    "# Full imports\n",
    "import torch\n",
    "from blockgen.configs import VoxelConfig, DiffusionConfig\n",
    "from blockgen.utils import create_model_and_trainer, create_dataloaders\n",
    "from blockgen.models import DiffusionModel3D\n",
    "from blockgen.inference import DiffusionInference3D\n",
    "from diffusers import UNet3DConditionModel"
   ]
  },
  {
   "cell_type": "code",
   "execution_count": null,
   "metadata": {},
   "outputs": [
    {
     "name": "stdout",
     "output_type": "stream",
     "text": [
      "Using device: cpu\n"
     ]
    }
   ],
   "source": [
    "device = torch.device('cuda' if torch.cuda.is_available() else 'cpu')\n",
    "print(f\"Using device: {device}\")\n",
    "if torch.cuda.is_available():\n",
    "    print(f\"GPU: {torch.cuda.get_device_name(0)}\")"
   ]
  },
  {
   "cell_type": "code",
   "execution_count": null,
   "metadata": {},
   "outputs": [],
   "source": [
    "# Configs\n",
    "voxel_config = VoxelConfig(\n",
    "    use_rgb=False,\n",
    "    default_color=[0.5, 0.5, 0.5],\n",
    "    alpha_weight=1.0,\n",
    "    rgb_weight=1.0\n",
    ")\n",
    "\n",
    "diffusion_config = DiffusionConfig(\n",
    "    num_timesteps=1000,\n",
    "    use_ema=True,\n",
    "    ema_decay=0.9999,\n",
    "    ema_update_after_step=0,\n",
    "    ema_device=device,\n",
    "    seed=42\n",
    ")"
   ]
  },
  {
   "cell_type": "code",
   "execution_count": 5,
   "metadata": {},
   "outputs": [
    {
     "name": "stdout",
     "output_type": "stream",
     "text": [
      "Total parameters: 120096449\n"
     ]
    }
   ],
   "source": [
    "# Create model and trainer\n",
    "trainer, model = create_model_and_trainer(\n",
    "    voxel_config=voxel_config,\n",
    "    diffusion_config=diffusion_config,\n",
    "    resolution=32,\n",
    "    device=device\n",
    ")"
   ]
  },
  {
   "cell_type": "code",
   "execution_count": null,
   "metadata": {},
   "outputs": [],
   "source": [
    "train_loader, test_loader = create_dataloaders(\n",
    "    voxel_dir=\"objaverse_data_voxelized\",\n",
    "    annotation_file=\"objaverse_data/annotations.json\",\n",
    "    config=diffusion_config,\n",
    "    config_voxel=voxel_config,\n",
    "    batch_size=2\n",
    ")"
   ]
  },
  {
   "cell_type": "code",
   "execution_count": null,
   "metadata": {},
   "outputs": [],
   "source": [
    "metrics = trainer.train(\n",
    "    train_loader,\n",
    "    test_loader,\n",
    "    total_steps=95_000,\n",
    "    save_every=5_000,\n",
    "    eval_every=10_000,\n",
    "    save_dir='runs/experiment_4'\n",
    ")"
   ]
  },
  {
   "cell_type": "code",
   "execution_count": null,
   "metadata": {},
   "outputs": [],
   "source": [
    "import matplotlib.pyplot as plt\n",
    "\n",
    "plt.figure(figsize=(12, 5))\n",
    "plt.subplot(1, 2, 1)\n",
    "plt.plot(metrics['training_losses'])\n",
    "plt.title('Training Loss')\n",
    "plt.xlabel('Step')\n",
    "plt.ylabel('Loss')\n",
    "\n",
    "plt.subplot(1, 2, 2)\n",
    "plt.plot(metrics['test_steps'], metrics['test_losses'])\n",
    "plt.title('Test Loss')\n",
    "plt.xlabel('Step')\n",
    "plt.ylabel('Loss')\n",
    "\n",
    "plt.tight_layout()\n",
    "plt.show()"
   ]
  },
  {
   "cell_type": "code",
   "execution_count": null,
   "metadata": {},
   "outputs": [],
   "source": [
    "# Inference\n",
    "inferencer = DiffusionInference3D(\n",
    "    model=model,\n",
    "    noise_scheduler=model.noise_scheduler,\n",
    "    config=voxel_config,\n",
    "    device=device\n",
    ")"
   ]
  },
  {
   "cell_type": "code",
   "execution_count": null,
   "metadata": {},
   "outputs": [],
   "source": [
    "samples = inferencer.sample(\n",
    "    prompt=\"Stone\",\n",
    "    num_samples=2,\n",
    "    image_size=(32, 32, 32),\n",
    "    show_intermediate=False,\n",
    "    guidance_scale=7\n",
    ")"
   ]
  },
  {
   "cell_type": "code",
   "execution_count": null,
   "metadata": {},
   "outputs": [],
   "source": [
    "inferencer.visualize_samples(samples)"
   ]
  }
 ],
 "metadata": {
  "kernelspec": {
   "display_name": "stats",
   "language": "python",
   "name": "python3"
  },
  "language_info": {
   "codemirror_mode": {
    "name": "ipython",
    "version": 3
   },
   "file_extension": ".py",
   "mimetype": "text/x-python",
   "name": "python",
   "nbconvert_exporter": "python",
   "pygments_lexer": "ipython3",
   "version": "3.10.13"
  }
 },
 "nbformat": 4,
 "nbformat_minor": 4
}

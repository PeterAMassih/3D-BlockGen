{
 "cells": [
  {
   "cell_type": "code",
   "execution_count": 2,
   "metadata": {},
   "outputs": [],
   "source": [
    "%load_ext autoreload\n",
    "%autoreload 2"
   ]
  },
  {
   "cell_type": "code",
   "execution_count": 3,
   "metadata": {},
   "outputs": [
    {
     "name": "stdout",
     "output_type": "stream",
     "text": [
      "cuda\n"
     ]
    }
   ],
   "source": [
    "import torch\n",
    "\n",
    "\n",
    "device = torch.device(\"cuda\" if torch.cuda.is_available() else \"cpu\")\n",
    "print(device)"
   ]
  },
  {
   "cell_type": "code",
   "execution_count": 4,
   "metadata": {
    "scrolled": true
   },
   "outputs": [
    {
     "name": "stdout",
     "output_type": "stream",
     "text": [
      "DiffusionModel3D(\n",
      "  (model): UNet3DConditionModel(\n",
      "    (conv_in): Conv2d(1, 64, kernel_size=(3, 3), stride=(1, 1), padding=(1, 1))\n",
      "    (time_proj): Timesteps()\n",
      "    (time_embedding): TimestepEmbedding(\n",
      "      (linear_1): Linear(in_features=64, out_features=256, bias=True)\n",
      "      (act): SiLU()\n",
      "      (linear_2): Linear(in_features=256, out_features=256, bias=True)\n",
      "    )\n",
      "    (transformer_in): TransformerTemporalModel(\n",
      "      (norm): GroupNorm(32, 64, eps=1e-06, affine=True)\n",
      "      (proj_in): Linear(in_features=64, out_features=512, bias=True)\n",
      "      (transformer_blocks): ModuleList(\n",
      "        (0): BasicTransformerBlock(\n",
      "          (norm1): LayerNorm((512,), eps=1e-05, elementwise_affine=True)\n",
      "          (attn1): Attention(\n",
      "            (to_q): Linear(in_features=512, out_features=512, bias=False)\n",
      "            (to_k): Linear(in_features=512, out_features=512, bias=False)\n",
      "            (to_v): Linear(in_features=512, out_features=512, bias=False)\n",
      "            (to_out): ModuleList(\n",
      "              (0): Linear(in_features=512, out_features=512, bias=True)\n",
      "              (1): Dropout(p=0.0, inplace=False)\n",
      "            )\n",
      "          )\n",
      "          (norm2): LayerNorm((512,), eps=1e-05, elementwise_affine=True)\n",
      "          (attn2): Attention(\n",
      "            (to_q): Linear(in_features=512, out_features=512, bias=False)\n",
      "            (to_k): Linear(in_features=512, out_features=512, bias=False)\n",
      "            (to_v): Linear(in_features=512, out_features=512, bias=False)\n",
      "            (to_out): ModuleList(\n",
      "              (0): Linear(in_features=512, out_features=512, bias=True)\n",
      "              (1): Dropout(p=0.0, inplace=False)\n",
      "            )\n",
      "          )\n",
      "          (norm3): LayerNorm((512,), eps=1e-05, elementwise_affine=True)\n",
      "          (ff): FeedForward(\n",
      "            (net): ModuleList(\n",
      "              (0): GEGLU(\n",
      "                (proj): Linear(in_features=512, out_features=4096, bias=True)\n",
      "              )\n",
      "              (1): Dropout(p=0.0, inplace=False)\n",
      "              (2): Linear(in_features=2048, out_features=512, bias=True)\n",
      "            )\n",
      "          )\n",
      "        )\n",
      "      )\n",
      "      (proj_out): Linear(in_features=512, out_features=64, bias=True)\n",
      "    )\n",
      "    (down_blocks): ModuleList(\n",
      "      (0): CrossAttnDownBlock3D(\n",
      "        (resnets): ModuleList(\n",
      "          (0-1): 2 x ResnetBlock2D(\n",
      "            (norm1): GroupNorm(32, 64, eps=1e-05, affine=True)\n",
      "            (conv1): Conv2d(64, 64, kernel_size=(3, 3), stride=(1, 1), padding=(1, 1))\n",
      "            (time_emb_proj): Linear(in_features=256, out_features=64, bias=True)\n",
      "            (norm2): GroupNorm(32, 64, eps=1e-05, affine=True)\n",
      "            (dropout): Dropout(p=0.0, inplace=False)\n",
      "            (conv2): Conv2d(64, 64, kernel_size=(3, 3), stride=(1, 1), padding=(1, 1))\n",
      "            (nonlinearity): SiLU()\n",
      "          )\n",
      "        )\n",
      "        (temp_convs): ModuleList(\n",
      "          (0-1): 2 x TemporalConvLayer(\n",
      "            (conv1): Sequential(\n",
      "              (0): GroupNorm(32, 64, eps=1e-05, affine=True)\n",
      "              (1): SiLU()\n",
      "              (2): Conv3d(64, 64, kernel_size=(3, 1, 1), stride=(1, 1, 1), padding=(1, 0, 0))\n",
      "            )\n",
      "            (conv2): Sequential(\n",
      "              (0): GroupNorm(32, 64, eps=1e-05, affine=True)\n",
      "              (1): SiLU()\n",
      "              (2): Dropout(p=0.1, inplace=False)\n",
      "              (3): Conv3d(64, 64, kernel_size=(3, 1, 1), stride=(1, 1, 1), padding=(1, 0, 0))\n",
      "            )\n",
      "            (conv3): Sequential(\n",
      "              (0): GroupNorm(32, 64, eps=1e-05, affine=True)\n",
      "              (1): SiLU()\n",
      "              (2): Dropout(p=0.1, inplace=False)\n",
      "              (3): Conv3d(64, 64, kernel_size=(3, 1, 1), stride=(1, 1, 1), padding=(1, 0, 0))\n",
      "            )\n",
      "            (conv4): Sequential(\n",
      "              (0): GroupNorm(32, 64, eps=1e-05, affine=True)\n",
      "              (1): SiLU()\n",
      "              (2): Dropout(p=0.1, inplace=False)\n",
      "              (3): Conv3d(64, 64, kernel_size=(3, 1, 1), stride=(1, 1, 1), padding=(1, 0, 0))\n",
      "            )\n",
      "          )\n",
      "        )\n",
      "        (attentions): ModuleList(\n",
      "          (0-1): 2 x Transformer2DModel(\n",
      "            (norm): GroupNorm(32, 64, eps=1e-06, affine=True)\n",
      "            (proj_in): Linear(in_features=64, out_features=64, bias=True)\n",
      "            (transformer_blocks): ModuleList(\n",
      "              (0): BasicTransformerBlock(\n",
      "                (norm1): LayerNorm((64,), eps=1e-05, elementwise_affine=True)\n",
      "                (attn1): Attention(\n",
      "                  (to_q): Linear(in_features=64, out_features=64, bias=False)\n",
      "                  (to_k): Linear(in_features=64, out_features=64, bias=False)\n",
      "                  (to_v): Linear(in_features=64, out_features=64, bias=False)\n",
      "                  (to_out): ModuleList(\n",
      "                    (0): Linear(in_features=64, out_features=64, bias=True)\n",
      "                    (1): Dropout(p=0.0, inplace=False)\n",
      "                  )\n",
      "                )\n",
      "                (norm2): LayerNorm((64,), eps=1e-05, elementwise_affine=True)\n",
      "                (attn2): Attention(\n",
      "                  (to_q): Linear(in_features=64, out_features=64, bias=False)\n",
      "                  (to_k): Linear(in_features=512, out_features=64, bias=False)\n",
      "                  (to_v): Linear(in_features=512, out_features=64, bias=False)\n",
      "                  (to_out): ModuleList(\n",
      "                    (0): Linear(in_features=64, out_features=64, bias=True)\n",
      "                    (1): Dropout(p=0.0, inplace=False)\n",
      "                  )\n",
      "                )\n",
      "                (norm3): LayerNorm((64,), eps=1e-05, elementwise_affine=True)\n",
      "                (ff): FeedForward(\n",
      "                  (net): ModuleList(\n",
      "                    (0): GEGLU(\n",
      "                      (proj): Linear(in_features=64, out_features=512, bias=True)\n",
      "                    )\n",
      "                    (1): Dropout(p=0.0, inplace=False)\n",
      "                    (2): Linear(in_features=256, out_features=64, bias=True)\n",
      "                  )\n",
      "                )\n",
      "              )\n",
      "            )\n",
      "            (proj_out): Linear(in_features=64, out_features=64, bias=True)\n",
      "          )\n",
      "        )\n",
      "        (temp_attentions): ModuleList(\n",
      "          (0-1): 2 x TransformerTemporalModel(\n",
      "            (norm): GroupNorm(32, 64, eps=1e-06, affine=True)\n",
      "            (proj_in): Linear(in_features=64, out_features=64, bias=True)\n",
      "            (transformer_blocks): ModuleList(\n",
      "              (0): BasicTransformerBlock(\n",
      "                (norm1): LayerNorm((64,), eps=1e-05, elementwise_affine=True)\n",
      "                (attn1): Attention(\n",
      "                  (to_q): Linear(in_features=64, out_features=64, bias=False)\n",
      "                  (to_k): Linear(in_features=64, out_features=64, bias=False)\n",
      "                  (to_v): Linear(in_features=64, out_features=64, bias=False)\n",
      "                  (to_out): ModuleList(\n",
      "                    (0): Linear(in_features=64, out_features=64, bias=True)\n",
      "                    (1): Dropout(p=0.0, inplace=False)\n",
      "                  )\n",
      "                )\n",
      "                (norm2): LayerNorm((64,), eps=1e-05, elementwise_affine=True)\n",
      "                (attn2): Attention(\n",
      "                  (to_q): Linear(in_features=64, out_features=64, bias=False)\n",
      "                  (to_k): Linear(in_features=64, out_features=64, bias=False)\n",
      "                  (to_v): Linear(in_features=64, out_features=64, bias=False)\n",
      "                  (to_out): ModuleList(\n",
      "                    (0): Linear(in_features=64, out_features=64, bias=True)\n",
      "                    (1): Dropout(p=0.0, inplace=False)\n",
      "                  )\n",
      "                )\n",
      "                (norm3): LayerNorm((64,), eps=1e-05, elementwise_affine=True)\n",
      "                (ff): FeedForward(\n",
      "                  (net): ModuleList(\n",
      "                    (0): GEGLU(\n",
      "                      (proj): Linear(in_features=64, out_features=512, bias=True)\n",
      "                    )\n",
      "                    (1): Dropout(p=0.0, inplace=False)\n",
      "                    (2): Linear(in_features=256, out_features=64, bias=True)\n",
      "                  )\n",
      "                )\n",
      "              )\n",
      "            )\n",
      "            (proj_out): Linear(in_features=64, out_features=64, bias=True)\n",
      "          )\n",
      "        )\n",
      "        (downsamplers): ModuleList(\n",
      "          (0): Downsample2D(\n",
      "            (conv): Conv2d(64, 64, kernel_size=(3, 3), stride=(2, 2), padding=(1, 1))\n",
      "          )\n",
      "        )\n",
      "      )\n",
      "      (1): CrossAttnDownBlock3D(\n",
      "        (resnets): ModuleList(\n",
      "          (0): ResnetBlock2D(\n",
      "            (norm1): GroupNorm(32, 64, eps=1e-05, affine=True)\n",
      "            (conv1): Conv2d(64, 128, kernel_size=(3, 3), stride=(1, 1), padding=(1, 1))\n",
      "            (time_emb_proj): Linear(in_features=256, out_features=128, bias=True)\n",
      "            (norm2): GroupNorm(32, 128, eps=1e-05, affine=True)\n",
      "            (dropout): Dropout(p=0.0, inplace=False)\n",
      "            (conv2): Conv2d(128, 128, kernel_size=(3, 3), stride=(1, 1), padding=(1, 1))\n",
      "            (nonlinearity): SiLU()\n",
      "            (conv_shortcut): Conv2d(64, 128, kernel_size=(1, 1), stride=(1, 1))\n",
      "          )\n",
      "          (1): ResnetBlock2D(\n",
      "            (norm1): GroupNorm(32, 128, eps=1e-05, affine=True)\n",
      "            (conv1): Conv2d(128, 128, kernel_size=(3, 3), stride=(1, 1), padding=(1, 1))\n",
      "            (time_emb_proj): Linear(in_features=256, out_features=128, bias=True)\n",
      "            (norm2): GroupNorm(32, 128, eps=1e-05, affine=True)\n",
      "            (dropout): Dropout(p=0.0, inplace=False)\n",
      "            (conv2): Conv2d(128, 128, kernel_size=(3, 3), stride=(1, 1), padding=(1, 1))\n",
      "            (nonlinearity): SiLU()\n",
      "          )\n",
      "        )\n",
      "        (temp_convs): ModuleList(\n",
      "          (0-1): 2 x TemporalConvLayer(\n",
      "            (conv1): Sequential(\n",
      "              (0): GroupNorm(32, 128, eps=1e-05, affine=True)\n",
      "              (1): SiLU()\n",
      "              (2): Conv3d(128, 128, kernel_size=(3, 1, 1), stride=(1, 1, 1), padding=(1, 0, 0))\n",
      "            )\n",
      "            (conv2): Sequential(\n",
      "              (0): GroupNorm(32, 128, eps=1e-05, affine=True)\n",
      "              (1): SiLU()\n",
      "              (2): Dropout(p=0.1, inplace=False)\n",
      "              (3): Conv3d(128, 128, kernel_size=(3, 1, 1), stride=(1, 1, 1), padding=(1, 0, 0))\n",
      "            )\n",
      "            (conv3): Sequential(\n",
      "              (0): GroupNorm(32, 128, eps=1e-05, affine=True)\n",
      "              (1): SiLU()\n",
      "              (2): Dropout(p=0.1, inplace=False)\n",
      "              (3): Conv3d(128, 128, kernel_size=(3, 1, 1), stride=(1, 1, 1), padding=(1, 0, 0))\n",
      "            )\n",
      "            (conv4): Sequential(\n",
      "              (0): GroupNorm(32, 128, eps=1e-05, affine=True)\n",
      "              (1): SiLU()\n",
      "              (2): Dropout(p=0.1, inplace=False)\n",
      "              (3): Conv3d(128, 128, kernel_size=(3, 1, 1), stride=(1, 1, 1), padding=(1, 0, 0))\n",
      "            )\n",
      "          )\n",
      "        )\n",
      "        (attentions): ModuleList(\n",
      "          (0-1): 2 x Transformer2DModel(\n",
      "            (norm): GroupNorm(32, 128, eps=1e-06, affine=True)\n",
      "            (proj_in): Linear(in_features=128, out_features=128, bias=True)\n",
      "            (transformer_blocks): ModuleList(\n",
      "              (0): BasicTransformerBlock(\n",
      "                (norm1): LayerNorm((128,), eps=1e-05, elementwise_affine=True)\n",
      "                (attn1): Attention(\n",
      "                  (to_q): Linear(in_features=128, out_features=128, bias=False)\n",
      "                  (to_k): Linear(in_features=128, out_features=128, bias=False)\n",
      "                  (to_v): Linear(in_features=128, out_features=128, bias=False)\n",
      "                  (to_out): ModuleList(\n",
      "                    (0): Linear(in_features=128, out_features=128, bias=True)\n",
      "                    (1): Dropout(p=0.0, inplace=False)\n",
      "                  )\n",
      "                )\n",
      "                (norm2): LayerNorm((128,), eps=1e-05, elementwise_affine=True)\n",
      "                (attn2): Attention(\n",
      "                  (to_q): Linear(in_features=128, out_features=128, bias=False)\n",
      "                  (to_k): Linear(in_features=512, out_features=128, bias=False)\n",
      "                  (to_v): Linear(in_features=512, out_features=128, bias=False)\n",
      "                  (to_out): ModuleList(\n",
      "                    (0): Linear(in_features=128, out_features=128, bias=True)\n",
      "                    (1): Dropout(p=0.0, inplace=False)\n",
      "                  )\n",
      "                )\n",
      "                (norm3): LayerNorm((128,), eps=1e-05, elementwise_affine=True)\n",
      "                (ff): FeedForward(\n",
      "                  (net): ModuleList(\n",
      "                    (0): GEGLU(\n",
      "                      (proj): Linear(in_features=128, out_features=1024, bias=True)\n",
      "                    )\n",
      "                    (1): Dropout(p=0.0, inplace=False)\n",
      "                    (2): Linear(in_features=512, out_features=128, bias=True)\n",
      "                  )\n",
      "                )\n",
      "              )\n",
      "            )\n",
      "            (proj_out): Linear(in_features=128, out_features=128, bias=True)\n",
      "          )\n",
      "        )\n",
      "        (temp_attentions): ModuleList(\n",
      "          (0-1): 2 x TransformerTemporalModel(\n",
      "            (norm): GroupNorm(32, 128, eps=1e-06, affine=True)\n",
      "            (proj_in): Linear(in_features=128, out_features=128, bias=True)\n",
      "            (transformer_blocks): ModuleList(\n",
      "              (0): BasicTransformerBlock(\n",
      "                (norm1): LayerNorm((128,), eps=1e-05, elementwise_affine=True)\n",
      "                (attn1): Attention(\n",
      "                  (to_q): Linear(in_features=128, out_features=128, bias=False)\n",
      "                  (to_k): Linear(in_features=128, out_features=128, bias=False)\n",
      "                  (to_v): Linear(in_features=128, out_features=128, bias=False)\n",
      "                  (to_out): ModuleList(\n",
      "                    (0): Linear(in_features=128, out_features=128, bias=True)\n",
      "                    (1): Dropout(p=0.0, inplace=False)\n",
      "                  )\n",
      "                )\n",
      "                (norm2): LayerNorm((128,), eps=1e-05, elementwise_affine=True)\n",
      "                (attn2): Attention(\n",
      "                  (to_q): Linear(in_features=128, out_features=128, bias=False)\n",
      "                  (to_k): Linear(in_features=128, out_features=128, bias=False)\n",
      "                  (to_v): Linear(in_features=128, out_features=128, bias=False)\n",
      "                  (to_out): ModuleList(\n",
      "                    (0): Linear(in_features=128, out_features=128, bias=True)\n",
      "                    (1): Dropout(p=0.0, inplace=False)\n",
      "                  )\n",
      "                )\n",
      "                (norm3): LayerNorm((128,), eps=1e-05, elementwise_affine=True)\n",
      "                (ff): FeedForward(\n",
      "                  (net): ModuleList(\n",
      "                    (0): GEGLU(\n",
      "                      (proj): Linear(in_features=128, out_features=1024, bias=True)\n",
      "                    )\n",
      "                    (1): Dropout(p=0.0, inplace=False)\n",
      "                    (2): Linear(in_features=512, out_features=128, bias=True)\n",
      "                  )\n",
      "                )\n",
      "              )\n",
      "            )\n",
      "            (proj_out): Linear(in_features=128, out_features=128, bias=True)\n",
      "          )\n",
      "        )\n",
      "        (downsamplers): ModuleList(\n",
      "          (0): Downsample2D(\n",
      "            (conv): Conv2d(128, 128, kernel_size=(3, 3), stride=(2, 2), padding=(1, 1))\n",
      "          )\n",
      "        )\n",
      "      )\n",
      "      (2): CrossAttnDownBlock3D(\n",
      "        (resnets): ModuleList(\n",
      "          (0): ResnetBlock2D(\n",
      "            (norm1): GroupNorm(32, 128, eps=1e-05, affine=True)\n",
      "            (conv1): Conv2d(128, 256, kernel_size=(3, 3), stride=(1, 1), padding=(1, 1))\n",
      "            (time_emb_proj): Linear(in_features=256, out_features=256, bias=True)\n",
      "            (norm2): GroupNorm(32, 256, eps=1e-05, affine=True)\n",
      "            (dropout): Dropout(p=0.0, inplace=False)\n",
      "            (conv2): Conv2d(256, 256, kernel_size=(3, 3), stride=(1, 1), padding=(1, 1))\n",
      "            (nonlinearity): SiLU()\n",
      "            (conv_shortcut): Conv2d(128, 256, kernel_size=(1, 1), stride=(1, 1))\n",
      "          )\n",
      "          (1): ResnetBlock2D(\n",
      "            (norm1): GroupNorm(32, 256, eps=1e-05, affine=True)\n",
      "            (conv1): Conv2d(256, 256, kernel_size=(3, 3), stride=(1, 1), padding=(1, 1))\n",
      "            (time_emb_proj): Linear(in_features=256, out_features=256, bias=True)\n",
      "            (norm2): GroupNorm(32, 256, eps=1e-05, affine=True)\n",
      "            (dropout): Dropout(p=0.0, inplace=False)\n",
      "            (conv2): Conv2d(256, 256, kernel_size=(3, 3), stride=(1, 1), padding=(1, 1))\n",
      "            (nonlinearity): SiLU()\n",
      "          )\n",
      "        )\n",
      "        (temp_convs): ModuleList(\n",
      "          (0-1): 2 x TemporalConvLayer(\n",
      "            (conv1): Sequential(\n",
      "              (0): GroupNorm(32, 256, eps=1e-05, affine=True)\n",
      "              (1): SiLU()\n",
      "              (2): Conv3d(256, 256, kernel_size=(3, 1, 1), stride=(1, 1, 1), padding=(1, 0, 0))\n",
      "            )\n",
      "            (conv2): Sequential(\n",
      "              (0): GroupNorm(32, 256, eps=1e-05, affine=True)\n",
      "              (1): SiLU()\n",
      "              (2): Dropout(p=0.1, inplace=False)\n",
      "              (3): Conv3d(256, 256, kernel_size=(3, 1, 1), stride=(1, 1, 1), padding=(1, 0, 0))\n",
      "            )\n",
      "            (conv3): Sequential(\n",
      "              (0): GroupNorm(32, 256, eps=1e-05, affine=True)\n",
      "              (1): SiLU()\n",
      "              (2): Dropout(p=0.1, inplace=False)\n",
      "              (3): Conv3d(256, 256, kernel_size=(3, 1, 1), stride=(1, 1, 1), padding=(1, 0, 0))\n",
      "            )\n",
      "            (conv4): Sequential(\n",
      "              (0): GroupNorm(32, 256, eps=1e-05, affine=True)\n",
      "              (1): SiLU()\n",
      "              (2): Dropout(p=0.1, inplace=False)\n",
      "              (3): Conv3d(256, 256, kernel_size=(3, 1, 1), stride=(1, 1, 1), padding=(1, 0, 0))\n",
      "            )\n",
      "          )\n",
      "        )\n",
      "        (attentions): ModuleList(\n",
      "          (0-1): 2 x Transformer2DModel(\n",
      "            (norm): GroupNorm(32, 256, eps=1e-06, affine=True)\n",
      "            (proj_in): Linear(in_features=256, out_features=256, bias=True)\n",
      "            (transformer_blocks): ModuleList(\n",
      "              (0): BasicTransformerBlock(\n",
      "                (norm1): LayerNorm((256,), eps=1e-05, elementwise_affine=True)\n",
      "                (attn1): Attention(\n",
      "                  (to_q): Linear(in_features=256, out_features=256, bias=False)\n",
      "                  (to_k): Linear(in_features=256, out_features=256, bias=False)\n",
      "                  (to_v): Linear(in_features=256, out_features=256, bias=False)\n",
      "                  (to_out): ModuleList(\n",
      "                    (0): Linear(in_features=256, out_features=256, bias=True)\n",
      "                    (1): Dropout(p=0.0, inplace=False)\n",
      "                  )\n",
      "                )\n",
      "                (norm2): LayerNorm((256,), eps=1e-05, elementwise_affine=True)\n",
      "                (attn2): Attention(\n",
      "                  (to_q): Linear(in_features=256, out_features=256, bias=False)\n",
      "                  (to_k): Linear(in_features=512, out_features=256, bias=False)\n",
      "                  (to_v): Linear(in_features=512, out_features=256, bias=False)\n",
      "                  (to_out): ModuleList(\n",
      "                    (0): Linear(in_features=256, out_features=256, bias=True)\n",
      "                    (1): Dropout(p=0.0, inplace=False)\n",
      "                  )\n",
      "                )\n",
      "                (norm3): LayerNorm((256,), eps=1e-05, elementwise_affine=True)\n",
      "                (ff): FeedForward(\n",
      "                  (net): ModuleList(\n",
      "                    (0): GEGLU(\n",
      "                      (proj): Linear(in_features=256, out_features=2048, bias=True)\n",
      "                    )\n",
      "                    (1): Dropout(p=0.0, inplace=False)\n",
      "                    (2): Linear(in_features=1024, out_features=256, bias=True)\n",
      "                  )\n",
      "                )\n",
      "              )\n",
      "            )\n",
      "            (proj_out): Linear(in_features=256, out_features=256, bias=True)\n",
      "          )\n",
      "        )\n",
      "        (temp_attentions): ModuleList(\n",
      "          (0-1): 2 x TransformerTemporalModel(\n",
      "            (norm): GroupNorm(32, 256, eps=1e-06, affine=True)\n",
      "            (proj_in): Linear(in_features=256, out_features=256, bias=True)\n",
      "            (transformer_blocks): ModuleList(\n",
      "              (0): BasicTransformerBlock(\n",
      "                (norm1): LayerNorm((256,), eps=1e-05, elementwise_affine=True)\n",
      "                (attn1): Attention(\n",
      "                  (to_q): Linear(in_features=256, out_features=256, bias=False)\n",
      "                  (to_k): Linear(in_features=256, out_features=256, bias=False)\n",
      "                  (to_v): Linear(in_features=256, out_features=256, bias=False)\n",
      "                  (to_out): ModuleList(\n",
      "                    (0): Linear(in_features=256, out_features=256, bias=True)\n",
      "                    (1): Dropout(p=0.0, inplace=False)\n",
      "                  )\n",
      "                )\n",
      "                (norm2): LayerNorm((256,), eps=1e-05, elementwise_affine=True)\n",
      "                (attn2): Attention(\n",
      "                  (to_q): Linear(in_features=256, out_features=256, bias=False)\n",
      "                  (to_k): Linear(in_features=256, out_features=256, bias=False)\n",
      "                  (to_v): Linear(in_features=256, out_features=256, bias=False)\n",
      "                  (to_out): ModuleList(\n",
      "                    (0): Linear(in_features=256, out_features=256, bias=True)\n",
      "                    (1): Dropout(p=0.0, inplace=False)\n",
      "                  )\n",
      "                )\n",
      "                (norm3): LayerNorm((256,), eps=1e-05, elementwise_affine=True)\n",
      "                (ff): FeedForward(\n",
      "                  (net): ModuleList(\n",
      "                    (0): GEGLU(\n",
      "                      (proj): Linear(in_features=256, out_features=2048, bias=True)\n",
      "                    )\n",
      "                    (1): Dropout(p=0.0, inplace=False)\n",
      "                    (2): Linear(in_features=1024, out_features=256, bias=True)\n",
      "                  )\n",
      "                )\n",
      "              )\n",
      "            )\n",
      "            (proj_out): Linear(in_features=256, out_features=256, bias=True)\n",
      "          )\n",
      "        )\n",
      "        (downsamplers): ModuleList(\n",
      "          (0): Downsample2D(\n",
      "            (conv): Conv2d(256, 256, kernel_size=(3, 3), stride=(2, 2), padding=(1, 1))\n",
      "          )\n",
      "        )\n",
      "      )\n",
      "      (3): DownBlock3D(\n",
      "        (resnets): ModuleList(\n",
      "          (0): ResnetBlock2D(\n",
      "            (norm1): GroupNorm(32, 256, eps=1e-05, affine=True)\n",
      "            (conv1): Conv2d(256, 512, kernel_size=(3, 3), stride=(1, 1), padding=(1, 1))\n",
      "            (time_emb_proj): Linear(in_features=256, out_features=512, bias=True)\n",
      "            (norm2): GroupNorm(32, 512, eps=1e-05, affine=True)\n",
      "            (dropout): Dropout(p=0.0, inplace=False)\n",
      "            (conv2): Conv2d(512, 512, kernel_size=(3, 3), stride=(1, 1), padding=(1, 1))\n",
      "            (nonlinearity): SiLU()\n",
      "            (conv_shortcut): Conv2d(256, 512, kernel_size=(1, 1), stride=(1, 1))\n",
      "          )\n",
      "          (1): ResnetBlock2D(\n",
      "            (norm1): GroupNorm(32, 512, eps=1e-05, affine=True)\n",
      "            (conv1): Conv2d(512, 512, kernel_size=(3, 3), stride=(1, 1), padding=(1, 1))\n",
      "            (time_emb_proj): Linear(in_features=256, out_features=512, bias=True)\n",
      "            (norm2): GroupNorm(32, 512, eps=1e-05, affine=True)\n",
      "            (dropout): Dropout(p=0.0, inplace=False)\n",
      "            (conv2): Conv2d(512, 512, kernel_size=(3, 3), stride=(1, 1), padding=(1, 1))\n",
      "            (nonlinearity): SiLU()\n",
      "          )\n",
      "        )\n",
      "        (temp_convs): ModuleList(\n",
      "          (0-1): 2 x TemporalConvLayer(\n",
      "            (conv1): Sequential(\n",
      "              (0): GroupNorm(32, 512, eps=1e-05, affine=True)\n",
      "              (1): SiLU()\n",
      "              (2): Conv3d(512, 512, kernel_size=(3, 1, 1), stride=(1, 1, 1), padding=(1, 0, 0))\n",
      "            )\n",
      "            (conv2): Sequential(\n",
      "              (0): GroupNorm(32, 512, eps=1e-05, affine=True)\n",
      "              (1): SiLU()\n",
      "              (2): Dropout(p=0.1, inplace=False)\n",
      "              (3): Conv3d(512, 512, kernel_size=(3, 1, 1), stride=(1, 1, 1), padding=(1, 0, 0))\n",
      "            )\n",
      "            (conv3): Sequential(\n",
      "              (0): GroupNorm(32, 512, eps=1e-05, affine=True)\n",
      "              (1): SiLU()\n",
      "              (2): Dropout(p=0.1, inplace=False)\n",
      "              (3): Conv3d(512, 512, kernel_size=(3, 1, 1), stride=(1, 1, 1), padding=(1, 0, 0))\n",
      "            )\n",
      "            (conv4): Sequential(\n",
      "              (0): GroupNorm(32, 512, eps=1e-05, affine=True)\n",
      "              (1): SiLU()\n",
      "              (2): Dropout(p=0.1, inplace=False)\n",
      "              (3): Conv3d(512, 512, kernel_size=(3, 1, 1), stride=(1, 1, 1), padding=(1, 0, 0))\n",
      "            )\n",
      "          )\n",
      "        )\n",
      "      )\n",
      "    )\n",
      "    (up_blocks): ModuleList(\n",
      "      (0): UpBlock3D(\n",
      "        (resnets): ModuleList(\n",
      "          (0-1): 2 x ResnetBlock2D(\n",
      "            (norm1): GroupNorm(32, 1024, eps=1e-05, affine=True)\n",
      "            (conv1): Conv2d(1024, 512, kernel_size=(3, 3), stride=(1, 1), padding=(1, 1))\n",
      "            (time_emb_proj): Linear(in_features=256, out_features=512, bias=True)\n",
      "            (norm2): GroupNorm(32, 512, eps=1e-05, affine=True)\n",
      "            (dropout): Dropout(p=0.0, inplace=False)\n",
      "            (conv2): Conv2d(512, 512, kernel_size=(3, 3), stride=(1, 1), padding=(1, 1))\n",
      "            (nonlinearity): SiLU()\n",
      "            (conv_shortcut): Conv2d(1024, 512, kernel_size=(1, 1), stride=(1, 1))\n",
      "          )\n",
      "          (2): ResnetBlock2D(\n",
      "            (norm1): GroupNorm(32, 768, eps=1e-05, affine=True)\n",
      "            (conv1): Conv2d(768, 512, kernel_size=(3, 3), stride=(1, 1), padding=(1, 1))\n",
      "            (time_emb_proj): Linear(in_features=256, out_features=512, bias=True)\n",
      "            (norm2): GroupNorm(32, 512, eps=1e-05, affine=True)\n",
      "            (dropout): Dropout(p=0.0, inplace=False)\n",
      "            (conv2): Conv2d(512, 512, kernel_size=(3, 3), stride=(1, 1), padding=(1, 1))\n",
      "            (nonlinearity): SiLU()\n",
      "            (conv_shortcut): Conv2d(768, 512, kernel_size=(1, 1), stride=(1, 1))\n",
      "          )\n",
      "        )\n",
      "        (temp_convs): ModuleList(\n",
      "          (0-2): 3 x TemporalConvLayer(\n",
      "            (conv1): Sequential(\n",
      "              (0): GroupNorm(32, 512, eps=1e-05, affine=True)\n",
      "              (1): SiLU()\n",
      "              (2): Conv3d(512, 512, kernel_size=(3, 1, 1), stride=(1, 1, 1), padding=(1, 0, 0))\n",
      "            )\n",
      "            (conv2): Sequential(\n",
      "              (0): GroupNorm(32, 512, eps=1e-05, affine=True)\n",
      "              (1): SiLU()\n",
      "              (2): Dropout(p=0.1, inplace=False)\n",
      "              (3): Conv3d(512, 512, kernel_size=(3, 1, 1), stride=(1, 1, 1), padding=(1, 0, 0))\n",
      "            )\n",
      "            (conv3): Sequential(\n",
      "              (0): GroupNorm(32, 512, eps=1e-05, affine=True)\n",
      "              (1): SiLU()\n",
      "              (2): Dropout(p=0.1, inplace=False)\n",
      "              (3): Conv3d(512, 512, kernel_size=(3, 1, 1), stride=(1, 1, 1), padding=(1, 0, 0))\n",
      "            )\n",
      "            (conv4): Sequential(\n",
      "              (0): GroupNorm(32, 512, eps=1e-05, affine=True)\n",
      "              (1): SiLU()\n",
      "              (2): Dropout(p=0.1, inplace=False)\n",
      "              (3): Conv3d(512, 512, kernel_size=(3, 1, 1), stride=(1, 1, 1), padding=(1, 0, 0))\n",
      "            )\n",
      "          )\n",
      "        )\n",
      "        (upsamplers): ModuleList(\n",
      "          (0): Upsample2D(\n",
      "            (conv): Conv2d(512, 512, kernel_size=(3, 3), stride=(1, 1), padding=(1, 1))\n",
      "          )\n",
      "        )\n",
      "      )\n",
      "      (1): CrossAttnUpBlock3D(\n",
      "        (resnets): ModuleList(\n",
      "          (0): ResnetBlock2D(\n",
      "            (norm1): GroupNorm(32, 768, eps=1e-05, affine=True)\n",
      "            (conv1): Conv2d(768, 256, kernel_size=(3, 3), stride=(1, 1), padding=(1, 1))\n",
      "            (time_emb_proj): Linear(in_features=256, out_features=256, bias=True)\n",
      "            (norm2): GroupNorm(32, 256, eps=1e-05, affine=True)\n",
      "            (dropout): Dropout(p=0.0, inplace=False)\n",
      "            (conv2): Conv2d(256, 256, kernel_size=(3, 3), stride=(1, 1), padding=(1, 1))\n",
      "            (nonlinearity): SiLU()\n",
      "            (conv_shortcut): Conv2d(768, 256, kernel_size=(1, 1), stride=(1, 1))\n",
      "          )\n",
      "          (1): ResnetBlock2D(\n",
      "            (norm1): GroupNorm(32, 512, eps=1e-05, affine=True)\n",
      "            (conv1): Conv2d(512, 256, kernel_size=(3, 3), stride=(1, 1), padding=(1, 1))\n",
      "            (time_emb_proj): Linear(in_features=256, out_features=256, bias=True)\n",
      "            (norm2): GroupNorm(32, 256, eps=1e-05, affine=True)\n",
      "            (dropout): Dropout(p=0.0, inplace=False)\n",
      "            (conv2): Conv2d(256, 256, kernel_size=(3, 3), stride=(1, 1), padding=(1, 1))\n",
      "            (nonlinearity): SiLU()\n",
      "            (conv_shortcut): Conv2d(512, 256, kernel_size=(1, 1), stride=(1, 1))\n",
      "          )\n",
      "          (2): ResnetBlock2D(\n",
      "            (norm1): GroupNorm(32, 384, eps=1e-05, affine=True)\n",
      "            (conv1): Conv2d(384, 256, kernel_size=(3, 3), stride=(1, 1), padding=(1, 1))\n",
      "            (time_emb_proj): Linear(in_features=256, out_features=256, bias=True)\n",
      "            (norm2): GroupNorm(32, 256, eps=1e-05, affine=True)\n",
      "            (dropout): Dropout(p=0.0, inplace=False)\n",
      "            (conv2): Conv2d(256, 256, kernel_size=(3, 3), stride=(1, 1), padding=(1, 1))\n",
      "            (nonlinearity): SiLU()\n",
      "            (conv_shortcut): Conv2d(384, 256, kernel_size=(1, 1), stride=(1, 1))\n",
      "          )\n",
      "        )\n",
      "        (temp_convs): ModuleList(\n",
      "          (0-2): 3 x TemporalConvLayer(\n",
      "            (conv1): Sequential(\n",
      "              (0): GroupNorm(32, 256, eps=1e-05, affine=True)\n",
      "              (1): SiLU()\n",
      "              (2): Conv3d(256, 256, kernel_size=(3, 1, 1), stride=(1, 1, 1), padding=(1, 0, 0))\n",
      "            )\n",
      "            (conv2): Sequential(\n",
      "              (0): GroupNorm(32, 256, eps=1e-05, affine=True)\n",
      "              (1): SiLU()\n",
      "              (2): Dropout(p=0.1, inplace=False)\n",
      "              (3): Conv3d(256, 256, kernel_size=(3, 1, 1), stride=(1, 1, 1), padding=(1, 0, 0))\n",
      "            )\n",
      "            (conv3): Sequential(\n",
      "              (0): GroupNorm(32, 256, eps=1e-05, affine=True)\n",
      "              (1): SiLU()\n",
      "              (2): Dropout(p=0.1, inplace=False)\n",
      "              (3): Conv3d(256, 256, kernel_size=(3, 1, 1), stride=(1, 1, 1), padding=(1, 0, 0))\n",
      "            )\n",
      "            (conv4): Sequential(\n",
      "              (0): GroupNorm(32, 256, eps=1e-05, affine=True)\n",
      "              (1): SiLU()\n",
      "              (2): Dropout(p=0.1, inplace=False)\n",
      "              (3): Conv3d(256, 256, kernel_size=(3, 1, 1), stride=(1, 1, 1), padding=(1, 0, 0))\n",
      "            )\n",
      "          )\n",
      "        )\n",
      "        (attentions): ModuleList(\n",
      "          (0-2): 3 x Transformer2DModel(\n",
      "            (norm): GroupNorm(32, 256, eps=1e-06, affine=True)\n",
      "            (proj_in): Linear(in_features=256, out_features=256, bias=True)\n",
      "            (transformer_blocks): ModuleList(\n",
      "              (0): BasicTransformerBlock(\n",
      "                (norm1): LayerNorm((256,), eps=1e-05, elementwise_affine=True)\n",
      "                (attn1): Attention(\n",
      "                  (to_q): Linear(in_features=256, out_features=256, bias=False)\n",
      "                  (to_k): Linear(in_features=256, out_features=256, bias=False)\n",
      "                  (to_v): Linear(in_features=256, out_features=256, bias=False)\n",
      "                  (to_out): ModuleList(\n",
      "                    (0): Linear(in_features=256, out_features=256, bias=True)\n",
      "                    (1): Dropout(p=0.0, inplace=False)\n",
      "                  )\n",
      "                )\n",
      "                (norm2): LayerNorm((256,), eps=1e-05, elementwise_affine=True)\n",
      "                (attn2): Attention(\n",
      "                  (to_q): Linear(in_features=256, out_features=256, bias=False)\n",
      "                  (to_k): Linear(in_features=512, out_features=256, bias=False)\n",
      "                  (to_v): Linear(in_features=512, out_features=256, bias=False)\n",
      "                  (to_out): ModuleList(\n",
      "                    (0): Linear(in_features=256, out_features=256, bias=True)\n",
      "                    (1): Dropout(p=0.0, inplace=False)\n",
      "                  )\n",
      "                )\n",
      "                (norm3): LayerNorm((256,), eps=1e-05, elementwise_affine=True)\n",
      "                (ff): FeedForward(\n",
      "                  (net): ModuleList(\n",
      "                    (0): GEGLU(\n",
      "                      (proj): Linear(in_features=256, out_features=2048, bias=True)\n",
      "                    )\n",
      "                    (1): Dropout(p=0.0, inplace=False)\n",
      "                    (2): Linear(in_features=1024, out_features=256, bias=True)\n",
      "                  )\n",
      "                )\n",
      "              )\n",
      "            )\n",
      "            (proj_out): Linear(in_features=256, out_features=256, bias=True)\n",
      "          )\n",
      "        )\n",
      "        (temp_attentions): ModuleList(\n",
      "          (0-2): 3 x TransformerTemporalModel(\n",
      "            (norm): GroupNorm(32, 256, eps=1e-06, affine=True)\n",
      "            (proj_in): Linear(in_features=256, out_features=256, bias=True)\n",
      "            (transformer_blocks): ModuleList(\n",
      "              (0): BasicTransformerBlock(\n",
      "                (norm1): LayerNorm((256,), eps=1e-05, elementwise_affine=True)\n",
      "                (attn1): Attention(\n",
      "                  (to_q): Linear(in_features=256, out_features=256, bias=False)\n",
      "                  (to_k): Linear(in_features=256, out_features=256, bias=False)\n",
      "                  (to_v): Linear(in_features=256, out_features=256, bias=False)\n",
      "                  (to_out): ModuleList(\n",
      "                    (0): Linear(in_features=256, out_features=256, bias=True)\n",
      "                    (1): Dropout(p=0.0, inplace=False)\n",
      "                  )\n",
      "                )\n",
      "                (norm2): LayerNorm((256,), eps=1e-05, elementwise_affine=True)\n",
      "                (attn2): Attention(\n",
      "                  (to_q): Linear(in_features=256, out_features=256, bias=False)\n",
      "                  (to_k): Linear(in_features=256, out_features=256, bias=False)\n",
      "                  (to_v): Linear(in_features=256, out_features=256, bias=False)\n",
      "                  (to_out): ModuleList(\n",
      "                    (0): Linear(in_features=256, out_features=256, bias=True)\n",
      "                    (1): Dropout(p=0.0, inplace=False)\n",
      "                  )\n",
      "                )\n",
      "                (norm3): LayerNorm((256,), eps=1e-05, elementwise_affine=True)\n",
      "                (ff): FeedForward(\n",
      "                  (net): ModuleList(\n",
      "                    (0): GEGLU(\n",
      "                      (proj): Linear(in_features=256, out_features=2048, bias=True)\n",
      "                    )\n",
      "                    (1): Dropout(p=0.0, inplace=False)\n",
      "                    (2): Linear(in_features=1024, out_features=256, bias=True)\n",
      "                  )\n",
      "                )\n",
      "              )\n",
      "            )\n",
      "            (proj_out): Linear(in_features=256, out_features=256, bias=True)\n",
      "          )\n",
      "        )\n",
      "        (upsamplers): ModuleList(\n",
      "          (0): Upsample2D(\n",
      "            (conv): Conv2d(256, 256, kernel_size=(3, 3), stride=(1, 1), padding=(1, 1))\n",
      "          )\n",
      "        )\n",
      "      )\n",
      "      (2): CrossAttnUpBlock3D(\n",
      "        (resnets): ModuleList(\n",
      "          (0): ResnetBlock2D(\n",
      "            (norm1): GroupNorm(32, 384, eps=1e-05, affine=True)\n",
      "            (conv1): Conv2d(384, 128, kernel_size=(3, 3), stride=(1, 1), padding=(1, 1))\n",
      "            (time_emb_proj): Linear(in_features=256, out_features=128, bias=True)\n",
      "            (norm2): GroupNorm(32, 128, eps=1e-05, affine=True)\n",
      "            (dropout): Dropout(p=0.0, inplace=False)\n",
      "            (conv2): Conv2d(128, 128, kernel_size=(3, 3), stride=(1, 1), padding=(1, 1))\n",
      "            (nonlinearity): SiLU()\n",
      "            (conv_shortcut): Conv2d(384, 128, kernel_size=(1, 1), stride=(1, 1))\n",
      "          )\n",
      "          (1): ResnetBlock2D(\n",
      "            (norm1): GroupNorm(32, 256, eps=1e-05, affine=True)\n",
      "            (conv1): Conv2d(256, 128, kernel_size=(3, 3), stride=(1, 1), padding=(1, 1))\n",
      "            (time_emb_proj): Linear(in_features=256, out_features=128, bias=True)\n",
      "            (norm2): GroupNorm(32, 128, eps=1e-05, affine=True)\n",
      "            (dropout): Dropout(p=0.0, inplace=False)\n",
      "            (conv2): Conv2d(128, 128, kernel_size=(3, 3), stride=(1, 1), padding=(1, 1))\n",
      "            (nonlinearity): SiLU()\n",
      "            (conv_shortcut): Conv2d(256, 128, kernel_size=(1, 1), stride=(1, 1))\n",
      "          )\n",
      "          (2): ResnetBlock2D(\n",
      "            (norm1): GroupNorm(32, 192, eps=1e-05, affine=True)\n",
      "            (conv1): Conv2d(192, 128, kernel_size=(3, 3), stride=(1, 1), padding=(1, 1))\n",
      "            (time_emb_proj): Linear(in_features=256, out_features=128, bias=True)\n",
      "            (norm2): GroupNorm(32, 128, eps=1e-05, affine=True)\n",
      "            (dropout): Dropout(p=0.0, inplace=False)\n",
      "            (conv2): Conv2d(128, 128, kernel_size=(3, 3), stride=(1, 1), padding=(1, 1))\n",
      "            (nonlinearity): SiLU()\n",
      "            (conv_shortcut): Conv2d(192, 128, kernel_size=(1, 1), stride=(1, 1))\n",
      "          )\n",
      "        )\n",
      "        (temp_convs): ModuleList(\n",
      "          (0-2): 3 x TemporalConvLayer(\n",
      "            (conv1): Sequential(\n",
      "              (0): GroupNorm(32, 128, eps=1e-05, affine=True)\n",
      "              (1): SiLU()\n",
      "              (2): Conv3d(128, 128, kernel_size=(3, 1, 1), stride=(1, 1, 1), padding=(1, 0, 0))\n",
      "            )\n",
      "            (conv2): Sequential(\n",
      "              (0): GroupNorm(32, 128, eps=1e-05, affine=True)\n",
      "              (1): SiLU()\n",
      "              (2): Dropout(p=0.1, inplace=False)\n",
      "              (3): Conv3d(128, 128, kernel_size=(3, 1, 1), stride=(1, 1, 1), padding=(1, 0, 0))\n",
      "            )\n",
      "            (conv3): Sequential(\n",
      "              (0): GroupNorm(32, 128, eps=1e-05, affine=True)\n",
      "              (1): SiLU()\n",
      "              (2): Dropout(p=0.1, inplace=False)\n",
      "              (3): Conv3d(128, 128, kernel_size=(3, 1, 1), stride=(1, 1, 1), padding=(1, 0, 0))\n",
      "            )\n",
      "            (conv4): Sequential(\n",
      "              (0): GroupNorm(32, 128, eps=1e-05, affine=True)\n",
      "              (1): SiLU()\n",
      "              (2): Dropout(p=0.1, inplace=False)\n",
      "              (3): Conv3d(128, 128, kernel_size=(3, 1, 1), stride=(1, 1, 1), padding=(1, 0, 0))\n",
      "            )\n",
      "          )\n",
      "        )\n",
      "        (attentions): ModuleList(\n",
      "          (0-2): 3 x Transformer2DModel(\n",
      "            (norm): GroupNorm(32, 128, eps=1e-06, affine=True)\n",
      "            (proj_in): Linear(in_features=128, out_features=128, bias=True)\n",
      "            (transformer_blocks): ModuleList(\n",
      "              (0): BasicTransformerBlock(\n",
      "                (norm1): LayerNorm((128,), eps=1e-05, elementwise_affine=True)\n",
      "                (attn1): Attention(\n",
      "                  (to_q): Linear(in_features=128, out_features=128, bias=False)\n",
      "                  (to_k): Linear(in_features=128, out_features=128, bias=False)\n",
      "                  (to_v): Linear(in_features=128, out_features=128, bias=False)\n",
      "                  (to_out): ModuleList(\n",
      "                    (0): Linear(in_features=128, out_features=128, bias=True)\n",
      "                    (1): Dropout(p=0.0, inplace=False)\n",
      "                  )\n",
      "                )\n",
      "                (norm2): LayerNorm((128,), eps=1e-05, elementwise_affine=True)\n",
      "                (attn2): Attention(\n",
      "                  (to_q): Linear(in_features=128, out_features=128, bias=False)\n",
      "                  (to_k): Linear(in_features=512, out_features=128, bias=False)\n",
      "                  (to_v): Linear(in_features=512, out_features=128, bias=False)\n",
      "                  (to_out): ModuleList(\n",
      "                    (0): Linear(in_features=128, out_features=128, bias=True)\n",
      "                    (1): Dropout(p=0.0, inplace=False)\n",
      "                  )\n",
      "                )\n",
      "                (norm3): LayerNorm((128,), eps=1e-05, elementwise_affine=True)\n",
      "                (ff): FeedForward(\n",
      "                  (net): ModuleList(\n",
      "                    (0): GEGLU(\n",
      "                      (proj): Linear(in_features=128, out_features=1024, bias=True)\n",
      "                    )\n",
      "                    (1): Dropout(p=0.0, inplace=False)\n",
      "                    (2): Linear(in_features=512, out_features=128, bias=True)\n",
      "                  )\n",
      "                )\n",
      "              )\n",
      "            )\n",
      "            (proj_out): Linear(in_features=128, out_features=128, bias=True)\n",
      "          )\n",
      "        )\n",
      "        (temp_attentions): ModuleList(\n",
      "          (0-2): 3 x TransformerTemporalModel(\n",
      "            (norm): GroupNorm(32, 128, eps=1e-06, affine=True)\n",
      "            (proj_in): Linear(in_features=128, out_features=128, bias=True)\n",
      "            (transformer_blocks): ModuleList(\n",
      "              (0): BasicTransformerBlock(\n",
      "                (norm1): LayerNorm((128,), eps=1e-05, elementwise_affine=True)\n",
      "                (attn1): Attention(\n",
      "                  (to_q): Linear(in_features=128, out_features=128, bias=False)\n",
      "                  (to_k): Linear(in_features=128, out_features=128, bias=False)\n",
      "                  (to_v): Linear(in_features=128, out_features=128, bias=False)\n",
      "                  (to_out): ModuleList(\n",
      "                    (0): Linear(in_features=128, out_features=128, bias=True)\n",
      "                    (1): Dropout(p=0.0, inplace=False)\n",
      "                  )\n",
      "                )\n",
      "                (norm2): LayerNorm((128,), eps=1e-05, elementwise_affine=True)\n",
      "                (attn2): Attention(\n",
      "                  (to_q): Linear(in_features=128, out_features=128, bias=False)\n",
      "                  (to_k): Linear(in_features=128, out_features=128, bias=False)\n",
      "                  (to_v): Linear(in_features=128, out_features=128, bias=False)\n",
      "                  (to_out): ModuleList(\n",
      "                    (0): Linear(in_features=128, out_features=128, bias=True)\n",
      "                    (1): Dropout(p=0.0, inplace=False)\n",
      "                  )\n",
      "                )\n",
      "                (norm3): LayerNorm((128,), eps=1e-05, elementwise_affine=True)\n",
      "                (ff): FeedForward(\n",
      "                  (net): ModuleList(\n",
      "                    (0): GEGLU(\n",
      "                      (proj): Linear(in_features=128, out_features=1024, bias=True)\n",
      "                    )\n",
      "                    (1): Dropout(p=0.0, inplace=False)\n",
      "                    (2): Linear(in_features=512, out_features=128, bias=True)\n",
      "                  )\n",
      "                )\n",
      "              )\n",
      "            )\n",
      "            (proj_out): Linear(in_features=128, out_features=128, bias=True)\n",
      "          )\n",
      "        )\n",
      "        (upsamplers): ModuleList(\n",
      "          (0): Upsample2D(\n",
      "            (conv): Conv2d(128, 128, kernel_size=(3, 3), stride=(1, 1), padding=(1, 1))\n",
      "          )\n",
      "        )\n",
      "      )\n",
      "      (3): CrossAttnUpBlock3D(\n",
      "        (resnets): ModuleList(\n",
      "          (0): ResnetBlock2D(\n",
      "            (norm1): GroupNorm(32, 192, eps=1e-05, affine=True)\n",
      "            (conv1): Conv2d(192, 64, kernel_size=(3, 3), stride=(1, 1), padding=(1, 1))\n",
      "            (time_emb_proj): Linear(in_features=256, out_features=64, bias=True)\n",
      "            (norm2): GroupNorm(32, 64, eps=1e-05, affine=True)\n",
      "            (dropout): Dropout(p=0.0, inplace=False)\n",
      "            (conv2): Conv2d(64, 64, kernel_size=(3, 3), stride=(1, 1), padding=(1, 1))\n",
      "            (nonlinearity): SiLU()\n",
      "            (conv_shortcut): Conv2d(192, 64, kernel_size=(1, 1), stride=(1, 1))\n",
      "          )\n",
      "          (1-2): 2 x ResnetBlock2D(\n",
      "            (norm1): GroupNorm(32, 128, eps=1e-05, affine=True)\n",
      "            (conv1): Conv2d(128, 64, kernel_size=(3, 3), stride=(1, 1), padding=(1, 1))\n",
      "            (time_emb_proj): Linear(in_features=256, out_features=64, bias=True)\n",
      "            (norm2): GroupNorm(32, 64, eps=1e-05, affine=True)\n",
      "            (dropout): Dropout(p=0.0, inplace=False)\n",
      "            (conv2): Conv2d(64, 64, kernel_size=(3, 3), stride=(1, 1), padding=(1, 1))\n",
      "            (nonlinearity): SiLU()\n",
      "            (conv_shortcut): Conv2d(128, 64, kernel_size=(1, 1), stride=(1, 1))\n",
      "          )\n",
      "        )\n",
      "        (temp_convs): ModuleList(\n",
      "          (0-2): 3 x TemporalConvLayer(\n",
      "            (conv1): Sequential(\n",
      "              (0): GroupNorm(32, 64, eps=1e-05, affine=True)\n",
      "              (1): SiLU()\n",
      "              (2): Conv3d(64, 64, kernel_size=(3, 1, 1), stride=(1, 1, 1), padding=(1, 0, 0))\n",
      "            )\n",
      "            (conv2): Sequential(\n",
      "              (0): GroupNorm(32, 64, eps=1e-05, affine=True)\n",
      "              (1): SiLU()\n",
      "              (2): Dropout(p=0.1, inplace=False)\n",
      "              (3): Conv3d(64, 64, kernel_size=(3, 1, 1), stride=(1, 1, 1), padding=(1, 0, 0))\n",
      "            )\n",
      "            (conv3): Sequential(\n",
      "              (0): GroupNorm(32, 64, eps=1e-05, affine=True)\n",
      "              (1): SiLU()\n",
      "              (2): Dropout(p=0.1, inplace=False)\n",
      "              (3): Conv3d(64, 64, kernel_size=(3, 1, 1), stride=(1, 1, 1), padding=(1, 0, 0))\n",
      "            )\n",
      "            (conv4): Sequential(\n",
      "              (0): GroupNorm(32, 64, eps=1e-05, affine=True)\n",
      "              (1): SiLU()\n",
      "              (2): Dropout(p=0.1, inplace=False)\n",
      "              (3): Conv3d(64, 64, kernel_size=(3, 1, 1), stride=(1, 1, 1), padding=(1, 0, 0))\n",
      "            )\n",
      "          )\n",
      "        )\n",
      "        (attentions): ModuleList(\n",
      "          (0-2): 3 x Transformer2DModel(\n",
      "            (norm): GroupNorm(32, 64, eps=1e-06, affine=True)\n",
      "            (proj_in): Linear(in_features=64, out_features=64, bias=True)\n",
      "            (transformer_blocks): ModuleList(\n",
      "              (0): BasicTransformerBlock(\n",
      "                (norm1): LayerNorm((64,), eps=1e-05, elementwise_affine=True)\n",
      "                (attn1): Attention(\n",
      "                  (to_q): Linear(in_features=64, out_features=64, bias=False)\n",
      "                  (to_k): Linear(in_features=64, out_features=64, bias=False)\n",
      "                  (to_v): Linear(in_features=64, out_features=64, bias=False)\n",
      "                  (to_out): ModuleList(\n",
      "                    (0): Linear(in_features=64, out_features=64, bias=True)\n",
      "                    (1): Dropout(p=0.0, inplace=False)\n",
      "                  )\n",
      "                )\n",
      "                (norm2): LayerNorm((64,), eps=1e-05, elementwise_affine=True)\n",
      "                (attn2): Attention(\n",
      "                  (to_q): Linear(in_features=64, out_features=64, bias=False)\n",
      "                  (to_k): Linear(in_features=512, out_features=64, bias=False)\n",
      "                  (to_v): Linear(in_features=512, out_features=64, bias=False)\n",
      "                  (to_out): ModuleList(\n",
      "                    (0): Linear(in_features=64, out_features=64, bias=True)\n",
      "                    (1): Dropout(p=0.0, inplace=False)\n",
      "                  )\n",
      "                )\n",
      "                (norm3): LayerNorm((64,), eps=1e-05, elementwise_affine=True)\n",
      "                (ff): FeedForward(\n",
      "                  (net): ModuleList(\n",
      "                    (0): GEGLU(\n",
      "                      (proj): Linear(in_features=64, out_features=512, bias=True)\n",
      "                    )\n",
      "                    (1): Dropout(p=0.0, inplace=False)\n",
      "                    (2): Linear(in_features=256, out_features=64, bias=True)\n",
      "                  )\n",
      "                )\n",
      "              )\n",
      "            )\n",
      "            (proj_out): Linear(in_features=64, out_features=64, bias=True)\n",
      "          )\n",
      "        )\n",
      "        (temp_attentions): ModuleList(\n",
      "          (0-2): 3 x TransformerTemporalModel(\n",
      "            (norm): GroupNorm(32, 64, eps=1e-06, affine=True)\n",
      "            (proj_in): Linear(in_features=64, out_features=64, bias=True)\n",
      "            (transformer_blocks): ModuleList(\n",
      "              (0): BasicTransformerBlock(\n",
      "                (norm1): LayerNorm((64,), eps=1e-05, elementwise_affine=True)\n",
      "                (attn1): Attention(\n",
      "                  (to_q): Linear(in_features=64, out_features=64, bias=False)\n",
      "                  (to_k): Linear(in_features=64, out_features=64, bias=False)\n",
      "                  (to_v): Linear(in_features=64, out_features=64, bias=False)\n",
      "                  (to_out): ModuleList(\n",
      "                    (0): Linear(in_features=64, out_features=64, bias=True)\n",
      "                    (1): Dropout(p=0.0, inplace=False)\n",
      "                  )\n",
      "                )\n",
      "                (norm2): LayerNorm((64,), eps=1e-05, elementwise_affine=True)\n",
      "                (attn2): Attention(\n",
      "                  (to_q): Linear(in_features=64, out_features=64, bias=False)\n",
      "                  (to_k): Linear(in_features=64, out_features=64, bias=False)\n",
      "                  (to_v): Linear(in_features=64, out_features=64, bias=False)\n",
      "                  (to_out): ModuleList(\n",
      "                    (0): Linear(in_features=64, out_features=64, bias=True)\n",
      "                    (1): Dropout(p=0.0, inplace=False)\n",
      "                  )\n",
      "                )\n",
      "                (norm3): LayerNorm((64,), eps=1e-05, elementwise_affine=True)\n",
      "                (ff): FeedForward(\n",
      "                  (net): ModuleList(\n",
      "                    (0): GEGLU(\n",
      "                      (proj): Linear(in_features=64, out_features=512, bias=True)\n",
      "                    )\n",
      "                    (1): Dropout(p=0.0, inplace=False)\n",
      "                    (2): Linear(in_features=256, out_features=64, bias=True)\n",
      "                  )\n",
      "                )\n",
      "              )\n",
      "            )\n",
      "            (proj_out): Linear(in_features=64, out_features=64, bias=True)\n",
      "          )\n",
      "        )\n",
      "      )\n",
      "    )\n",
      "    (mid_block): UNetMidBlock3DCrossAttn(\n",
      "      (resnets): ModuleList(\n",
      "        (0-1): 2 x ResnetBlock2D(\n",
      "          (norm1): GroupNorm(32, 512, eps=1e-05, affine=True)\n",
      "          (conv1): Conv2d(512, 512, kernel_size=(3, 3), stride=(1, 1), padding=(1, 1))\n",
      "          (time_emb_proj): Linear(in_features=256, out_features=512, bias=True)\n",
      "          (norm2): GroupNorm(32, 512, eps=1e-05, affine=True)\n",
      "          (dropout): Dropout(p=0.0, inplace=False)\n",
      "          (conv2): Conv2d(512, 512, kernel_size=(3, 3), stride=(1, 1), padding=(1, 1))\n",
      "          (nonlinearity): SiLU()\n",
      "        )\n",
      "      )\n",
      "      (temp_convs): ModuleList(\n",
      "        (0-1): 2 x TemporalConvLayer(\n",
      "          (conv1): Sequential(\n",
      "            (0): GroupNorm(32, 512, eps=1e-05, affine=True)\n",
      "            (1): SiLU()\n",
      "            (2): Conv3d(512, 512, kernel_size=(3, 1, 1), stride=(1, 1, 1), padding=(1, 0, 0))\n",
      "          )\n",
      "          (conv2): Sequential(\n",
      "            (0): GroupNorm(32, 512, eps=1e-05, affine=True)\n",
      "            (1): SiLU()\n",
      "            (2): Dropout(p=0.1, inplace=False)\n",
      "            (3): Conv3d(512, 512, kernel_size=(3, 1, 1), stride=(1, 1, 1), padding=(1, 0, 0))\n",
      "          )\n",
      "          (conv3): Sequential(\n",
      "            (0): GroupNorm(32, 512, eps=1e-05, affine=True)\n",
      "            (1): SiLU()\n",
      "            (2): Dropout(p=0.1, inplace=False)\n",
      "            (3): Conv3d(512, 512, kernel_size=(3, 1, 1), stride=(1, 1, 1), padding=(1, 0, 0))\n",
      "          )\n",
      "          (conv4): Sequential(\n",
      "            (0): GroupNorm(32, 512, eps=1e-05, affine=True)\n",
      "            (1): SiLU()\n",
      "            (2): Dropout(p=0.1, inplace=False)\n",
      "            (3): Conv3d(512, 512, kernel_size=(3, 1, 1), stride=(1, 1, 1), padding=(1, 0, 0))\n",
      "          )\n",
      "        )\n",
      "      )\n",
      "      (attentions): ModuleList(\n",
      "        (0): Transformer2DModel(\n",
      "          (norm): GroupNorm(32, 512, eps=1e-06, affine=True)\n",
      "          (proj_in): Linear(in_features=512, out_features=512, bias=True)\n",
      "          (transformer_blocks): ModuleList(\n",
      "            (0): BasicTransformerBlock(\n",
      "              (norm1): LayerNorm((512,), eps=1e-05, elementwise_affine=True)\n",
      "              (attn1): Attention(\n",
      "                (to_q): Linear(in_features=512, out_features=512, bias=False)\n",
      "                (to_k): Linear(in_features=512, out_features=512, bias=False)\n",
      "                (to_v): Linear(in_features=512, out_features=512, bias=False)\n",
      "                (to_out): ModuleList(\n",
      "                  (0): Linear(in_features=512, out_features=512, bias=True)\n",
      "                  (1): Dropout(p=0.0, inplace=False)\n",
      "                )\n",
      "              )\n",
      "              (norm2): LayerNorm((512,), eps=1e-05, elementwise_affine=True)\n",
      "              (attn2): Attention(\n",
      "                (to_q): Linear(in_features=512, out_features=512, bias=False)\n",
      "                (to_k): Linear(in_features=512, out_features=512, bias=False)\n",
      "                (to_v): Linear(in_features=512, out_features=512, bias=False)\n",
      "                (to_out): ModuleList(\n",
      "                  (0): Linear(in_features=512, out_features=512, bias=True)\n",
      "                  (1): Dropout(p=0.0, inplace=False)\n",
      "                )\n",
      "              )\n",
      "              (norm3): LayerNorm((512,), eps=1e-05, elementwise_affine=True)\n",
      "              (ff): FeedForward(\n",
      "                (net): ModuleList(\n",
      "                  (0): GEGLU(\n",
      "                    (proj): Linear(in_features=512, out_features=4096, bias=True)\n",
      "                  )\n",
      "                  (1): Dropout(p=0.0, inplace=False)\n",
      "                  (2): Linear(in_features=2048, out_features=512, bias=True)\n",
      "                )\n",
      "              )\n",
      "            )\n",
      "          )\n",
      "          (proj_out): Linear(in_features=512, out_features=512, bias=True)\n",
      "        )\n",
      "      )\n",
      "      (temp_attentions): ModuleList(\n",
      "        (0): TransformerTemporalModel(\n",
      "          (norm): GroupNorm(32, 512, eps=1e-06, affine=True)\n",
      "          (proj_in): Linear(in_features=512, out_features=512, bias=True)\n",
      "          (transformer_blocks): ModuleList(\n",
      "            (0): BasicTransformerBlock(\n",
      "              (norm1): LayerNorm((512,), eps=1e-05, elementwise_affine=True)\n",
      "              (attn1): Attention(\n",
      "                (to_q): Linear(in_features=512, out_features=512, bias=False)\n",
      "                (to_k): Linear(in_features=512, out_features=512, bias=False)\n",
      "                (to_v): Linear(in_features=512, out_features=512, bias=False)\n",
      "                (to_out): ModuleList(\n",
      "                  (0): Linear(in_features=512, out_features=512, bias=True)\n",
      "                  (1): Dropout(p=0.0, inplace=False)\n",
      "                )\n",
      "              )\n",
      "              (norm2): LayerNorm((512,), eps=1e-05, elementwise_affine=True)\n",
      "              (attn2): Attention(\n",
      "                (to_q): Linear(in_features=512, out_features=512, bias=False)\n",
      "                (to_k): Linear(in_features=512, out_features=512, bias=False)\n",
      "                (to_v): Linear(in_features=512, out_features=512, bias=False)\n",
      "                (to_out): ModuleList(\n",
      "                  (0): Linear(in_features=512, out_features=512, bias=True)\n",
      "                  (1): Dropout(p=0.0, inplace=False)\n",
      "                )\n",
      "              )\n",
      "              (norm3): LayerNorm((512,), eps=1e-05, elementwise_affine=True)\n",
      "              (ff): FeedForward(\n",
      "                (net): ModuleList(\n",
      "                  (0): GEGLU(\n",
      "                    (proj): Linear(in_features=512, out_features=4096, bias=True)\n",
      "                  )\n",
      "                  (1): Dropout(p=0.0, inplace=False)\n",
      "                  (2): Linear(in_features=2048, out_features=512, bias=True)\n",
      "                )\n",
      "              )\n",
      "            )\n",
      "          )\n",
      "          (proj_out): Linear(in_features=512, out_features=512, bias=True)\n",
      "        )\n",
      "      )\n",
      "    )\n",
      "    (conv_norm_out): GroupNorm(32, 64, eps=1e-05, affine=True)\n",
      "    (conv_act): SiLU()\n",
      "    (conv_out): Conv2d(64, 1, kernel_size=(3, 3), stride=(1, 1), padding=(1, 1))\n",
      "  )\n",
      ")\n",
      "Total parameters: 120096961\n"
     ]
    },
    {
     "name": "stderr",
     "output_type": "stream",
     "text": [
      "/scratch/students/2024-fall-sp-pabdel/3D-BlockGen/diffusion.py:12: FutureWarning: Accessing config attribute `cross_attention_dim` directly via 'UNet3DConditionModel' object attribute is deprecated. Please access 'cross_attention_dim' over 'UNet3DConditionModel's config object instead, e.g. 'unet.config.cross_attention_dim'.\n",
      "  self.dummy_encoder = nn.Parameter(torch.zeros(1, 1, model.cross_attention_dim), requires_grad=False)\n"
     ]
    }
   ],
   "source": [
    "from diffusers import UNet3DConditionModel\n",
    "from diffusion import DiffusionModel3D\n",
    "\n",
    "# Create a 3D model\n",
    "model = UNet3DConditionModel(\n",
    "    sample_size=32,  # the target resolution (assuming 32x32x32 voxels)\n",
    "    in_channels=1,  # number of input channels, 1 for voxel data\n",
    "    out_channels=1,  # number of output channels\n",
    "    layers_per_block=2,  # how many ResNet layers to use per UNet block\n",
    "    block_out_channels=(64, 128, 256, 512),  # channel numbers for each block\n",
    "    down_block_types=(\n",
    "        \"CrossAttnDownBlock3D\",  # a downsampling block with cross-attention\n",
    "        \"CrossAttnDownBlock3D\",\n",
    "        \"CrossAttnDownBlock3D\",\n",
    "        \"DownBlock3D\",  # a regular downsampling block without attention\n",
    "    ),\n",
    "    up_block_types=(\n",
    "        \"UpBlock3D\",  # a regular upsampling block without attention\n",
    "        \"CrossAttnUpBlock3D\",  # an upsampling block with cross-attention\n",
    "        \"CrossAttnUpBlock3D\",\n",
    "        \"CrossAttnUpBlock3D\",\n",
    "    ),\n",
    "    cross_attention_dim=512,  # dimension of the cross attention features\n",
    ")\n",
    "model.to(device)\n",
    "\n",
    "diffusion_model = DiffusionModel3D(model, num_timesteps=1000)\n",
    "diffusion_model.to(device)\n",
    "\n",
    "# Print model summary\n",
    "print(diffusion_model)\n",
    "print(f\"Total parameters: {sum(p.numel() for p in diffusion_model.parameters())}\")"
   ]
  },
  {
   "cell_type": "code",
   "execution_count": 5,
   "metadata": {},
   "outputs": [
    {
     "name": "stdout",
     "output_type": "stream",
     "text": [
      "Loading data from ./objaverse_processed/processed_models...\n",
      "Found 1000 files in ./objaverse_processed/processed_models\n",
      "Train dataset size: 900\n",
      "Test dataset size: 100\n"
     ]
    }
   ],
   "source": [
    "# Import your data loader (assumed to be defined in a separate file)\n",
    "from data_loader import create_dataloader\n",
    "\n",
    "# Create training and testing dataloaders\n",
    "batch_size = 3  # Adjust as necessary for memory\n",
    "data_dir = \"./objaverse_processed/processed_models\"  # Replace with actual data directory\n",
    "train_dataloader, test_dataloader = create_dataloader(data_dir, batch_size=batch_size)\n",
    "\n",
    "print(f\"Train dataset size: {len(train_dataloader.dataset)}\")\n",
    "print(f\"Test dataset size: {len(test_dataloader.dataset)}\")"
   ]
  },
  {
   "cell_type": "code",
   "execution_count": 6,
   "metadata": {},
   "outputs": [
    {
     "name": "stderr",
     "output_type": "stream",
     "text": [
      "Epoch 1/30 - Training: 100%|█████████████████████████████████████████████████████████████████████████████████████████████████████████████████████████████| 300/300 [06:32<00:00,  1.31s/it]\n"
     ]
    },
    {
     "name": "stdout",
     "output_type": "stream",
     "text": [
      "Epoch [1/30], Training Loss: 0.03169756151425342, LR: 0.000100\n"
     ]
    },
    {
     "name": "stderr",
     "output_type": "stream",
     "text": [
      "Evaluating: 100%|██████████████████████████████████████████████████████████████████████████████████████████████████████████████████████████████████████████| 34/34 [00:12<00:00,  2.74it/s]\n"
     ]
    },
    {
     "name": "stdout",
     "output_type": "stream",
     "text": [
      "Test Loss: 0.0108\n",
      "Saved best model at epoch 1 with Test Loss: 0.0108\n",
      "Saved latest model at epoch 1\n"
     ]
    },
    {
     "name": "stderr",
     "output_type": "stream",
     "text": [
      "Epoch 2/30 - Training: 100%|█████████████████████████████████████████████████████████████████████████████████████████████████████████████████████████████| 300/300 [06:41<00:00,  1.34s/it]\n"
     ]
    },
    {
     "name": "stdout",
     "output_type": "stream",
     "text": [
      "Epoch [2/30], Training Loss: 0.010401593534043059, LR: 0.000099\n"
     ]
    },
    {
     "name": "stderr",
     "output_type": "stream",
     "text": [
      "Evaluating: 100%|██████████████████████████████████████████████████████████████████████████████████████████████████████████████████████████████████████████| 34/34 [00:12<00:00,  2.74it/s]\n"
     ]
    },
    {
     "name": "stdout",
     "output_type": "stream",
     "text": [
      "Test Loss: 0.0109\n",
      "Saved latest model at epoch 2\n"
     ]
    },
    {
     "name": "stderr",
     "output_type": "stream",
     "text": [
      "Epoch 3/30 - Training: 100%|█████████████████████████████████████████████████████████████████████████████████████████████████████████████████████████████| 300/300 [06:37<00:00,  1.32s/it]\n"
     ]
    },
    {
     "name": "stdout",
     "output_type": "stream",
     "text": [
      "Epoch [3/30], Training Loss: 0.010056835739330078, LR: 0.000098\n"
     ]
    },
    {
     "name": "stderr",
     "output_type": "stream",
     "text": [
      "Evaluating: 100%|██████████████████████████████████████████████████████████████████████████████████████████████████████████████████████████████████████████| 34/34 [00:12<00:00,  2.80it/s]\n"
     ]
    },
    {
     "name": "stdout",
     "output_type": "stream",
     "text": [
      "Test Loss: 0.0085\n",
      "Saved best model at epoch 3 with Test Loss: 0.0085\n",
      "Saved latest model at epoch 3\n"
     ]
    },
    {
     "name": "stderr",
     "output_type": "stream",
     "text": [
      "Epoch 4/30 - Training: 100%|█████████████████████████████████████████████████████████████████████████████████████████████████████████████████████████████| 300/300 [06:46<00:00,  1.36s/it]\n"
     ]
    },
    {
     "name": "stdout",
     "output_type": "stream",
     "text": [
      "Epoch [4/30], Training Loss: 0.005851891869679093, LR: 0.000096\n"
     ]
    },
    {
     "name": "stderr",
     "output_type": "stream",
     "text": [
      "Evaluating: 100%|██████████████████████████████████████████████████████████████████████████████████████████████████████████████████████████████████████████| 34/34 [00:12<00:00,  2.67it/s]\n"
     ]
    },
    {
     "name": "stdout",
     "output_type": "stream",
     "text": [
      "Test Loss: 0.0127\n",
      "Saved latest model at epoch 4\n"
     ]
    },
    {
     "name": "stderr",
     "output_type": "stream",
     "text": [
      "Epoch 5/30 - Training: 100%|█████████████████████████████████████████████████████████████████████████████████████████████████████████████████████████████| 300/300 [06:52<00:00,  1.37s/it]\n"
     ]
    },
    {
     "name": "stdout",
     "output_type": "stream",
     "text": [
      "Epoch [5/30], Training Loss: 0.004516208283409166, LR: 0.000093\n"
     ]
    },
    {
     "name": "stderr",
     "output_type": "stream",
     "text": [
      "Evaluating: 100%|██████████████████████████████████████████████████████████████████████████████████████████████████████████████████████████████████████████| 34/34 [00:12<00:00,  2.64it/s]\n"
     ]
    },
    {
     "name": "stdout",
     "output_type": "stream",
     "text": [
      "Test Loss: 0.0037\n",
      "Saved best model at epoch 5 with Test Loss: 0.0037\n",
      "Saved latest model at epoch 5\n"
     ]
    },
    {
     "name": "stderr",
     "output_type": "stream",
     "text": [
      "Epoch 6/30 - Training: 100%|█████████████████████████████████████████████████████████████████████████████████████████████████████████████████████████████| 300/300 [06:56<00:00,  1.39s/it]\n"
     ]
    },
    {
     "name": "stdout",
     "output_type": "stream",
     "text": [
      "Epoch [6/30], Training Loss: 0.0028072327132880066, LR: 0.000091\n"
     ]
    },
    {
     "name": "stderr",
     "output_type": "stream",
     "text": [
      "Evaluating: 100%|██████████████████████████████████████████████████████████████████████████████████████████████████████████████████████████████████████████| 34/34 [00:12<00:00,  2.65it/s]\n"
     ]
    },
    {
     "name": "stdout",
     "output_type": "stream",
     "text": [
      "Test Loss: 0.0029\n",
      "Saved best model at epoch 6 with Test Loss: 0.0029\n",
      "Saved latest model at epoch 6\n"
     ]
    },
    {
     "name": "stderr",
     "output_type": "stream",
     "text": [
      "Epoch 7/30 - Training: 100%|█████████████████████████████████████████████████████████████████████████████████████████████████████████████████████████████| 300/300 [06:50<00:00,  1.37s/it]\n"
     ]
    },
    {
     "name": "stdout",
     "output_type": "stream",
     "text": [
      "Epoch [7/30], Training Loss: 0.00362511927591792, LR: 0.000087\n"
     ]
    },
    {
     "name": "stderr",
     "output_type": "stream",
     "text": [
      "Evaluating: 100%|██████████████████████████████████████████████████████████████████████████████████████████████████████████████████████████████████████████| 34/34 [00:12<00:00,  2.72it/s]\n"
     ]
    },
    {
     "name": "stdout",
     "output_type": "stream",
     "text": [
      "Test Loss: 0.0095\n",
      "Saved latest model at epoch 7\n"
     ]
    },
    {
     "name": "stderr",
     "output_type": "stream",
     "text": [
      "Epoch 8/30 - Training: 100%|█████████████████████████████████████████████████████████████████████████████████████████████████████████████████████████████| 300/300 [06:49<00:00,  1.36s/it]\n"
     ]
    },
    {
     "name": "stdout",
     "output_type": "stream",
     "text": [
      "Epoch [8/30], Training Loss: 0.0022059217345668, LR: 0.000084\n"
     ]
    },
    {
     "name": "stderr",
     "output_type": "stream",
     "text": [
      "Evaluating: 100%|██████████████████████████████████████████████████████████████████████████████████████████████████████████████████████████████████████████| 34/34 [00:12<00:00,  2.72it/s]\n"
     ]
    },
    {
     "name": "stdout",
     "output_type": "stream",
     "text": [
      "Test Loss: 0.0022\n",
      "Saved best model at epoch 8 with Test Loss: 0.0022\n",
      "Saved latest model at epoch 8\n"
     ]
    },
    {
     "name": "stderr",
     "output_type": "stream",
     "text": [
      "Epoch 9/30 - Training: 100%|█████████████████████████████████████████████████████████████████████████████████████████████████████████████████████████████| 300/300 [06:49<00:00,  1.37s/it]\n"
     ]
    },
    {
     "name": "stdout",
     "output_type": "stream",
     "text": [
      "Epoch [9/30], Training Loss: 0.00236063490776966, LR: 0.000080\n"
     ]
    },
    {
     "name": "stderr",
     "output_type": "stream",
     "text": [
      "Evaluating: 100%|██████████████████████████████████████████████████████████████████████████████████████████████████████████████████████████████████████████| 34/34 [00:12<00:00,  2.72it/s]\n"
     ]
    },
    {
     "name": "stdout",
     "output_type": "stream",
     "text": [
      "Test Loss: 0.0017\n",
      "Saved best model at epoch 9 with Test Loss: 0.0017\n",
      "Saved latest model at epoch 9\n"
     ]
    },
    {
     "name": "stderr",
     "output_type": "stream",
     "text": [
      "Epoch 10/30 - Training: 100%|████████████████████████████████████████████████████████████████████████████████████████████████████████████████████████████| 300/300 [06:48<00:00,  1.36s/it]\n"
     ]
    },
    {
     "name": "stdout",
     "output_type": "stream",
     "text": [
      "Epoch [10/30], Training Loss: 0.0014890198307693937, LR: 0.000075\n"
     ]
    },
    {
     "name": "stderr",
     "output_type": "stream",
     "text": [
      "Evaluating: 100%|██████████████████████████████████████████████████████████████████████████████████████████████████████████████████████████████████████████| 34/34 [00:12<00:00,  2.74it/s]\n"
     ]
    },
    {
     "name": "stdout",
     "output_type": "stream",
     "text": [
      "Test Loss: 0.0051\n",
      "Saved latest model at epoch 10\n"
     ]
    },
    {
     "name": "stderr",
     "output_type": "stream",
     "text": [
      "Epoch 11/30 - Training: 100%|████████████████████████████████████████████████████████████████████████████████████████████████████████████████████████████| 300/300 [06:48<00:00,  1.36s/it]\n"
     ]
    },
    {
     "name": "stdout",
     "output_type": "stream",
     "text": [
      "Epoch [11/30], Training Loss: 0.0015280160998615126, LR: 0.000071\n"
     ]
    },
    {
     "name": "stderr",
     "output_type": "stream",
     "text": [
      "Evaluating: 100%|██████████████████████████████████████████████████████████████████████████████████████████████████████████████████████████████████████████| 34/34 [00:12<00:00,  2.74it/s]\n"
     ]
    },
    {
     "name": "stdout",
     "output_type": "stream",
     "text": [
      "Test Loss: 0.0006\n",
      "Saved best model at epoch 11 with Test Loss: 0.0006\n",
      "Saved latest model at epoch 11\n"
     ]
    },
    {
     "name": "stderr",
     "output_type": "stream",
     "text": [
      "Epoch 12/30 - Training: 100%|████████████████████████████████████████████████████████████████████████████████████████████████████████████████████████████| 300/300 [06:49<00:00,  1.37s/it]\n"
     ]
    },
    {
     "name": "stdout",
     "output_type": "stream",
     "text": [
      "Epoch [12/30], Training Loss: 0.0013985263923435318, LR: 0.000066\n"
     ]
    },
    {
     "name": "stderr",
     "output_type": "stream",
     "text": [
      "Evaluating: 100%|██████████████████████████████████████████████████████████████████████████████████████████████████████████████████████████████████████████| 34/34 [00:12<00:00,  2.71it/s]\n"
     ]
    },
    {
     "name": "stdout",
     "output_type": "stream",
     "text": [
      "Test Loss: 0.0013\n",
      "Saved latest model at epoch 12\n"
     ]
    },
    {
     "name": "stderr",
     "output_type": "stream",
     "text": [
      "Epoch 13/30 - Training: 100%|████████████████████████████████████████████████████████████████████████████████████████████████████████████████████████████| 300/300 [06:51<00:00,  1.37s/it]\n"
     ]
    },
    {
     "name": "stdout",
     "output_type": "stream",
     "text": [
      "Epoch [13/30], Training Loss: 0.0009641060665308032, LR: 0.000061\n"
     ]
    },
    {
     "name": "stderr",
     "output_type": "stream",
     "text": [
      "Evaluating: 100%|██████████████████████████████████████████████████████████████████████████████████████████████████████████████████████████████████████████| 34/34 [00:12<00:00,  2.71it/s]\n"
     ]
    },
    {
     "name": "stdout",
     "output_type": "stream",
     "text": [
      "Test Loss: 0.0034\n",
      "Saved latest model at epoch 13\n"
     ]
    },
    {
     "name": "stderr",
     "output_type": "stream",
     "text": [
      "Epoch 14/30 - Training: 100%|████████████████████████████████████████████████████████████████████████████████████████████████████████████████████████████| 300/300 [06:49<00:00,  1.36s/it]\n"
     ]
    },
    {
     "name": "stdout",
     "output_type": "stream",
     "text": [
      "Epoch [14/30], Training Loss: 0.0017240838723470613, LR: 0.000056\n"
     ]
    },
    {
     "name": "stderr",
     "output_type": "stream",
     "text": [
      "Evaluating: 100%|██████████████████████████████████████████████████████████████████████████████████████████████████████████████████████████████████████████| 34/34 [00:12<00:00,  2.72it/s]\n"
     ]
    },
    {
     "name": "stdout",
     "output_type": "stream",
     "text": [
      "Test Loss: 0.0004\n",
      "Saved best model at epoch 14 with Test Loss: 0.0004\n",
      "Saved latest model at epoch 14\n"
     ]
    },
    {
     "name": "stderr",
     "output_type": "stream",
     "text": [
      "Epoch 15/30 - Training: 100%|████████████████████████████████████████████████████████████████████████████████████████████████████████████████████████████| 300/300 [06:49<00:00,  1.36s/it]\n"
     ]
    },
    {
     "name": "stdout",
     "output_type": "stream",
     "text": [
      "Epoch [15/30], Training Loss: 0.0006200207710692969, LR: 0.000051\n"
     ]
    },
    {
     "name": "stderr",
     "output_type": "stream",
     "text": [
      "Evaluating: 100%|██████████████████████████████████████████████████████████████████████████████████████████████████████████████████████████████████████████| 34/34 [00:12<00:00,  2.72it/s]\n"
     ]
    },
    {
     "name": "stdout",
     "output_type": "stream",
     "text": [
      "Test Loss: 0.0005\n",
      "Saved latest model at epoch 15\n"
     ]
    },
    {
     "name": "stderr",
     "output_type": "stream",
     "text": [
      "Epoch 16/30 - Training: 100%|████████████████████████████████████████████████████████████████████████████████████████████████████████████████████████████| 300/300 [06:52<00:00,  1.37s/it]\n"
     ]
    },
    {
     "name": "stdout",
     "output_type": "stream",
     "text": [
      "Epoch [16/30], Training Loss: 0.0009514911557198503, LR: 0.000045\n"
     ]
    },
    {
     "name": "stderr",
     "output_type": "stream",
     "text": [
      "Evaluating: 100%|██████████████████████████████████████████████████████████████████████████████████████████████████████████████████████████████████████████| 34/34 [00:12<00:00,  2.70it/s]\n"
     ]
    },
    {
     "name": "stdout",
     "output_type": "stream",
     "text": [
      "Test Loss: 0.0014\n",
      "Saved latest model at epoch 16\n"
     ]
    },
    {
     "name": "stderr",
     "output_type": "stream",
     "text": [
      "Epoch 17/30 - Training: 100%|████████████████████████████████████████████████████████████████████████████████████████████████████████████████████████████| 300/300 [06:50<00:00,  1.37s/it]\n"
     ]
    },
    {
     "name": "stdout",
     "output_type": "stream",
     "text": [
      "Epoch [17/30], Training Loss: 0.0007866453335251814, LR: 0.000040\n"
     ]
    },
    {
     "name": "stderr",
     "output_type": "stream",
     "text": [
      "Evaluating: 100%|██████████████████████████████████████████████████████████████████████████████████████████████████████████████████████████████████████████| 34/34 [00:12<00:00,  2.75it/s]\n"
     ]
    },
    {
     "name": "stdout",
     "output_type": "stream",
     "text": [
      "Test Loss: 0.0004\n",
      "Saved best model at epoch 17 with Test Loss: 0.0004\n",
      "Saved latest model at epoch 17\n"
     ]
    },
    {
     "name": "stderr",
     "output_type": "stream",
     "text": [
      "Epoch 18/30 - Training: 100%|████████████████████████████████████████████████████████████████████████████████████████████████████████████████████████████| 300/300 [06:50<00:00,  1.37s/it]\n"
     ]
    },
    {
     "name": "stdout",
     "output_type": "stream",
     "text": [
      "Epoch [18/30], Training Loss: 0.00036118603398790585, LR: 0.000035\n"
     ]
    },
    {
     "name": "stderr",
     "output_type": "stream",
     "text": [
      "Evaluating: 100%|██████████████████████████████████████████████████████████████████████████████████████████████████████████████████████████████████████████| 34/34 [00:12<00:00,  2.75it/s]\n"
     ]
    },
    {
     "name": "stdout",
     "output_type": "stream",
     "text": [
      "Test Loss: 0.0003\n",
      "Saved best model at epoch 18 with Test Loss: 0.0003\n",
      "Saved latest model at epoch 18\n"
     ]
    },
    {
     "name": "stderr",
     "output_type": "stream",
     "text": [
      "Epoch 19/30 - Training: 100%|████████████████████████████████████████████████████████████████████████████████████████████████████████████████████████████| 300/300 [06:50<00:00,  1.37s/it]\n"
     ]
    },
    {
     "name": "stdout",
     "output_type": "stream",
     "text": [
      "Epoch [19/30], Training Loss: 0.0006032104882857918, LR: 0.000030\n"
     ]
    },
    {
     "name": "stderr",
     "output_type": "stream",
     "text": [
      "Evaluating: 100%|██████████████████████████████████████████████████████████████████████████████████████████████████████████████████████████████████████████| 34/34 [00:12<00:00,  2.69it/s]\n"
     ]
    },
    {
     "name": "stdout",
     "output_type": "stream",
     "text": [
      "Test Loss: 0.0004\n",
      "Saved latest model at epoch 19\n"
     ]
    },
    {
     "name": "stderr",
     "output_type": "stream",
     "text": [
      "Epoch 20/30 - Training: 100%|████████████████████████████████████████████████████████████████████████████████████████████████████████████████████████████| 300/300 [06:50<00:00,  1.37s/it]\n"
     ]
    },
    {
     "name": "stdout",
     "output_type": "stream",
     "text": [
      "Epoch [20/30], Training Loss: 0.00033620541643661757, LR: 0.000026\n"
     ]
    },
    {
     "name": "stderr",
     "output_type": "stream",
     "text": [
      "Evaluating: 100%|██████████████████████████████████████████████████████████████████████████████████████████████████████████████████████████████████████████| 34/34 [00:12<00:00,  2.72it/s]\n"
     ]
    },
    {
     "name": "stdout",
     "output_type": "stream",
     "text": [
      "Test Loss: 0.0003\n",
      "Saved best model at epoch 20 with Test Loss: 0.0003\n",
      "Saved latest model at epoch 20\n"
     ]
    },
    {
     "name": "stderr",
     "output_type": "stream",
     "text": [
      "Epoch 21/30 - Training: 100%|████████████████████████████████████████████████████████████████████████████████████████████████████████████████████████████| 300/300 [06:54<00:00,  1.38s/it]\n"
     ]
    },
    {
     "name": "stdout",
     "output_type": "stream",
     "text": [
      "Epoch [21/30], Training Loss: 0.0005623663055545573, LR: 0.000021\n"
     ]
    },
    {
     "name": "stderr",
     "output_type": "stream",
     "text": [
      "Evaluating: 100%|██████████████████████████████████████████████████████████████████████████████████████████████████████████████████████████████████████████| 34/34 [00:12<00:00,  2.67it/s]\n"
     ]
    },
    {
     "name": "stdout",
     "output_type": "stream",
     "text": [
      "Test Loss: 0.0002\n",
      "Saved best model at epoch 21 with Test Loss: 0.0002\n",
      "Saved latest model at epoch 21\n"
     ]
    },
    {
     "name": "stderr",
     "output_type": "stream",
     "text": [
      "Epoch 22/30 - Training: 100%|████████████████████████████████████████████████████████████████████████████████████████████████████████████████████████████| 300/300 [06:47<00:00,  1.36s/it]\n"
     ]
    },
    {
     "name": "stdout",
     "output_type": "stream",
     "text": [
      "Epoch [22/30], Training Loss: 0.000399338225882578, LR: 0.000017\n"
     ]
    },
    {
     "name": "stderr",
     "output_type": "stream",
     "text": [
      "Evaluating: 100%|██████████████████████████████████████████████████████████████████████████████████████████████████████████████████████████████████████████| 34/34 [00:12<00:00,  2.70it/s]\n"
     ]
    },
    {
     "name": "stdout",
     "output_type": "stream",
     "text": [
      "Test Loss: 0.0003\n",
      "Saved latest model at epoch 22\n"
     ]
    },
    {
     "name": "stderr",
     "output_type": "stream",
     "text": [
      "Epoch 23/30 - Training: 100%|████████████████████████████████████████████████████████████████████████████████████████████████████████████████████████████| 300/300 [06:52<00:00,  1.37s/it]\n"
     ]
    },
    {
     "name": "stdout",
     "output_type": "stream",
     "text": [
      "Epoch [23/30], Training Loss: 0.00029973311582580207, LR: 0.000014\n"
     ]
    },
    {
     "name": "stderr",
     "output_type": "stream",
     "text": [
      "Evaluating: 100%|██████████████████████████████████████████████████████████████████████████████████████████████████████████████████████████████████████████| 34/34 [00:12<00:00,  2.71it/s]\n"
     ]
    },
    {
     "name": "stdout",
     "output_type": "stream",
     "text": [
      "Test Loss: 0.0005\n",
      "Saved latest model at epoch 23\n"
     ]
    },
    {
     "name": "stderr",
     "output_type": "stream",
     "text": [
      "Epoch 24/30 - Training: 100%|████████████████████████████████████████████████████████████████████████████████████████████████████████████████████████████| 300/300 [06:49<00:00,  1.37s/it]\n"
     ]
    },
    {
     "name": "stdout",
     "output_type": "stream",
     "text": [
      "Epoch [24/30], Training Loss: 0.00028291827203550686, LR: 0.000010\n"
     ]
    },
    {
     "name": "stderr",
     "output_type": "stream",
     "text": [
      "Evaluating: 100%|██████████████████████████████████████████████████████████████████████████████████████████████████████████████████████████████████████████| 34/34 [00:12<00:00,  2.69it/s]\n"
     ]
    },
    {
     "name": "stdout",
     "output_type": "stream",
     "text": [
      "Test Loss: 0.0002\n",
      "Saved best model at epoch 24 with Test Loss: 0.0002\n",
      "Saved latest model at epoch 24\n"
     ]
    },
    {
     "name": "stderr",
     "output_type": "stream",
     "text": [
      "Epoch 25/30 - Training: 100%|████████████████████████████████████████████████████████████████████████████████████████████████████████████████████████████| 300/300 [06:51<00:00,  1.37s/it]\n"
     ]
    },
    {
     "name": "stdout",
     "output_type": "stream",
     "text": [
      "Epoch [25/30], Training Loss: 0.000348254025229835, LR: 0.000008\n"
     ]
    },
    {
     "name": "stderr",
     "output_type": "stream",
     "text": [
      "Evaluating: 100%|██████████████████████████████████████████████████████████████████████████████████████████████████████████████████████████████████████████| 34/34 [00:12<00:00,  2.65it/s]\n"
     ]
    },
    {
     "name": "stdout",
     "output_type": "stream",
     "text": [
      "Test Loss: 0.0005\n",
      "Saved latest model at epoch 25\n"
     ]
    },
    {
     "name": "stderr",
     "output_type": "stream",
     "text": [
      "Epoch 26/30 - Training: 100%|████████████████████████████████████████████████████████████████████████████████████████████████████████████████████████████| 300/300 [06:49<00:00,  1.37s/it]\n"
     ]
    },
    {
     "name": "stdout",
     "output_type": "stream",
     "text": [
      "Epoch [26/30], Training Loss: 0.00031207384439767337, LR: 0.000005\n"
     ]
    },
    {
     "name": "stderr",
     "output_type": "stream",
     "text": [
      "Evaluating: 100%|██████████████████████████████████████████████████████████████████████████████████████████████████████████████████████████████████████████| 34/34 [00:12<00:00,  2.74it/s]\n"
     ]
    },
    {
     "name": "stdout",
     "output_type": "stream",
     "text": [
      "Test Loss: 0.0002\n",
      "Saved latest model at epoch 26\n"
     ]
    },
    {
     "name": "stderr",
     "output_type": "stream",
     "text": [
      "Epoch 27/30 - Training: 100%|████████████████████████████████████████████████████████████████████████████████████████████████████████████████████████████| 300/300 [06:49<00:00,  1.37s/it]\n"
     ]
    },
    {
     "name": "stdout",
     "output_type": "stream",
     "text": [
      "Epoch [27/30], Training Loss: 0.0001951355950101667, LR: 0.000003\n"
     ]
    },
    {
     "name": "stderr",
     "output_type": "stream",
     "text": [
      "Evaluating: 100%|██████████████████████████████████████████████████████████████████████████████████████████████████████████████████████████████████████████| 34/34 [00:12<00:00,  2.75it/s]\n"
     ]
    },
    {
     "name": "stdout",
     "output_type": "stream",
     "text": [
      "Test Loss: 0.0002\n",
      "Saved latest model at epoch 27\n"
     ]
    },
    {
     "name": "stderr",
     "output_type": "stream",
     "text": [
      "Epoch 28/30 - Training: 100%|████████████████████████████████████████████████████████████████████████████████████████████████████████████████████████████| 300/300 [06:46<00:00,  1.36s/it]\n"
     ]
    },
    {
     "name": "stdout",
     "output_type": "stream",
     "text": [
      "Epoch [28/30], Training Loss: 0.0002038665803653809, LR: 0.000002\n"
     ]
    },
    {
     "name": "stderr",
     "output_type": "stream",
     "text": [
      "Evaluating: 100%|██████████████████████████████████████████████████████████████████████████████████████████████████████████████████████████████████████████| 34/34 [00:12<00:00,  2.73it/s]\n"
     ]
    },
    {
     "name": "stdout",
     "output_type": "stream",
     "text": [
      "Test Loss: 0.0001\n",
      "Saved best model at epoch 28 with Test Loss: 0.0001\n",
      "Saved latest model at epoch 28\n"
     ]
    },
    {
     "name": "stderr",
     "output_type": "stream",
     "text": [
      "Epoch 29/30 - Training: 100%|████████████████████████████████████████████████████████████████████████████████████████████████████████████████████████████| 300/300 [06:48<00:00,  1.36s/it]\n"
     ]
    },
    {
     "name": "stdout",
     "output_type": "stream",
     "text": [
      "Epoch [29/30], Training Loss: 0.00018316389353761526, LR: 0.000001\n"
     ]
    },
    {
     "name": "stderr",
     "output_type": "stream",
     "text": [
      "Evaluating: 100%|██████████████████████████████████████████████████████████████████████████████████████████████████████████████████████████████████████████| 34/34 [00:12<00:00,  2.73it/s]\n"
     ]
    },
    {
     "name": "stdout",
     "output_type": "stream",
     "text": [
      "Test Loss: 0.0001\n",
      "Saved best model at epoch 29 with Test Loss: 0.0001\n",
      "Saved latest model at epoch 29\n"
     ]
    },
    {
     "name": "stderr",
     "output_type": "stream",
     "text": [
      "Epoch 30/30 - Training: 100%|████████████████████████████████████████████████████████████████████████████████████████████████████████████████████████████| 300/300 [06:46<00:00,  1.36s/it]\n"
     ]
    },
    {
     "name": "stdout",
     "output_type": "stream",
     "text": [
      "Epoch [30/30], Training Loss: 0.00019143615444287812, LR: 0.000001\n"
     ]
    },
    {
     "name": "stderr",
     "output_type": "stream",
     "text": [
      "Evaluating: 100%|██████████████████████████████████████████████████████████████████████████████████████████████████████████████████████████████████████████| 34/34 [00:12<00:00,  2.72it/s]\n"
     ]
    },
    {
     "name": "stdout",
     "output_type": "stream",
     "text": [
      "Test Loss: 0.0002\n",
      "Saved latest model at epoch 30\n"
     ]
    }
   ],
   "source": [
    "from training import train_diffusion_model\n",
    "\n",
    "losses, test_losses = train_diffusion_model(diffusion_model, train_dataloader, test_dataloader, epochs=30, device=device)"
   ]
  },
  {
   "cell_type": "code",
   "execution_count": 7,
   "metadata": {},
   "outputs": [
    {
     "data": {
      "image/png": "[encoded data removed]",
      "text/plain": [
       "<Figure size 640x480 with 1 Axes>"
      ]
     },
     "metadata": {},
     "output_type": "display_data"
    }
   ],
   "source": [
    "# Plot the training loss\n",
    "import matplotlib.pyplot as plt\n",
    "plt.plot(losses)\n",
    "plt.title(\"Training Loss\")\n",
    "plt.xlabel(\"Epoch\")\n",
    "plt.ylabel(\"Loss\")\n",
    "plt.show()\n"
   ]
  },
  {
   "cell_type": "code",
   "execution_count": 8,
   "metadata": {},
   "outputs": [
    {
     "data": {
      "image/png": "[encoded data removed]",
      "text/plain": [
       "<Figure size 640x480 with 1 Axes>"
      ]
     },
     "metadata": {},
     "output_type": "display_data"
    }
   ],
   "source": [
    "# Plot the test loss\n",
    "plt.plot(test_losses)\n",
    "plt.title(\"Test Loss\")\n",
    "plt.xlabel(\"Epoch\")\n",
    "plt.ylabel(\"Loss\")\n",
    "plt.show()"
   ]
  },
  {
   "cell_type": "code",
   "execution_count": 6,
   "metadata": {
    "scrolled": true
   },
   "outputs": [
    {
     "name": "stderr",
     "output_type": "stream",
     "text": [
      "Sampling Steps: 100%|██████████████████████████████████████████████████████████████████████████████████████████████████████████████████████████████████| 1000/1000 [04:13<00:00,  3.94it/s]\n"
     ]
    },
    {
     "name": "stdout",
     "output_type": "stream",
     "text": [
      "(2, 1, 32, 32, 32)\n"
     ]
    },
    {
     "data": {
      "image/png": "[encoded data removed]",
      "text/plain": [
       "<Figure size 800x800 with 4 Axes>"
      ]
     },
     "metadata": {},
     "output_type": "display_data"
    }
   ],
   "source": [
    "from inference import DiffusionInference3D\n",
    "from diffusers import DDIMScheduler\n",
    "\n",
    "\n",
    "diffusion_model = DiffusionModel3D(model, num_timesteps=1000)\n",
    "\n",
    "diffusion_model.load_state_dict(torch.load(\"./best_model.pth\"))\n",
    "\n",
    "diffusion_model.to(device)\n",
    "\n",
    "# noise_scheduler = DDIMScheduler.from_config(diffusion_model.noise_scheduler.config, timestep_spacing=\"trailing\")\n",
    "\n",
    "# inference = DiffusionInference3D(diffusion_model, noise_scheduler, device=device)\n",
    "# samples = inference.sample_ddim(num_samples=2, image_size=(32, 32, 32), num_inference_steps = 200, intermediate_visualisation=True)\n",
    "\n",
    "\n",
    "inference = DiffusionInference3D(diffusion_model, diffusion_model.noise_scheduler, device=device)\n",
    "samples = inference.sample(num_samples=2, image_size=(32, 32, 32), show_intermediate=False)\n",
    "\n",
    "inference.visualize_samples(samples, threshold=0.5)\n"
   ]
  },
  {
   "cell_type": "code",
   "execution_count": null,
   "metadata": {},
   "outputs": [],
   "source": []
  },
  {
   "cell_type": "code",
   "execution_count": null,
   "metadata": {},
   "outputs": [],
   "source": []
  }
 ],
 "metadata": {
  "kernelspec": {
   "display_name": "Python 3 (ipykernel)",
   "language": "python",
   "name": "python3"
  },
  "language_info": {
   "codemirror_mode": {
    "name": "ipython",
    "version": 3
   },
   "file_extension": ".py",
   "mimetype": "text/x-python",
   "name": "python",
   "nbconvert_exporter": "python",
   "pygments_lexer": "ipython3",
   "version": "3.10.6"
  }
 },
 "nbformat": 4,
 "nbformat_minor": 4
}

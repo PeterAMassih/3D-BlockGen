{
 "cells": [
  {
   "cell_type": "code",
   "execution_count": null,
   "id": "a42213b7-241a-43a9-9e46-13fabb62dfb9",
   "metadata": {},
   "outputs": [],
   "source": [
    "# Pay attention, in order to run this you would need to install all dependencies in requirements.txt even commented ones (check files) or use the docker image in the readme\n",
    "\n",
    "%load_ext autoreload\n",
    "%autoreload 2\n",
    "%matplotlib inline\n",
    "\n",
    "import torch\n",
    "from blockgen.configs import VoxelConfig, DiffusionConfig\n",
    "from blockgen.inference import DiffusionInference3D\n",
    "from scripts.generate import load_model_for_inference\n",
    "\n",
    "device = torch.device('cuda' if torch.cuda.is_available() else 'cpu')\n",
    "print(f\"Using device: {device}\")\n",
    "if torch.cuda.is_available():\n",
    "    print(f\"GPU: {torch.cuda.get_device_name(0)}\")"
   ]
  },
  {
   "cell_type": "markdown",
   "id": "441de855-51eb-452e-b542-4eb9eaf33dc5",
   "metadata": {},
   "source": [
    "# Load configs to be used, see results.ipynb for loading combined configs and using other models for inference"
   ]
  },
  {
   "cell_type": "code",
   "execution_count": 2,
   "id": "e4007475-035f-43d3-9749-757c64ae503d",
   "metadata": {},
   "outputs": [],
   "source": [
    "shape_voxel_config = VoxelConfig(\n",
    "    mode='two_stage',\n",
    "    stage='shape',\n",
    "    default_color=[0.5, 0.5, 0.5],\n",
    "    alpha_weight=1.0,\n",
    "    rgb_weight=1.0\n",
    ")\n",
    "\n",
    "color_voxel_config = VoxelConfig(\n",
    "    mode='two_stage',\n",
    "    stage='color',\n",
    "    default_color=[0.5, 0.5, 0.5],\n",
    "    alpha_weight=1.0,\n",
    "    rgb_weight=1.0\n",
    ")\n",
    "\n",
    "diffusion_config = DiffusionConfig(\n",
    "    num_timesteps=1000,\n",
    "    use_ema=True,\n",
    "    ema_decay=0.9999,\n",
    "    ema_update_after_step=0,\n",
    "    ema_device=device,\n",
    "    use_ddim=False,\n",
    "    seed=42\n",
    ")"
   ]
  },
  {
   "cell_type": "markdown",
   "id": "f5cd5b35-1cc1-4168-b4bd-c90f12792297",
   "metadata": {},
   "source": [
    "# Load models can we loaded with DDIM need to choose steps check results.ipynb ddim (need also to put use_ddim=True) section in ablation study. Can also load in EMA mode"
   ]
  },
  {
   "cell_type": "code",
   "execution_count": null,
   "id": "b4ba5c22-c199-4619-be6e-bff6b7ead0d9",
   "metadata": {},
   "outputs": [],
   "source": [
    "shape_model = load_model_for_inference(\n",
    "    model_path=\"runs/experiment_two_stage/shape/best_model/model\",\n",
    "    voxel_config=shape_voxel_config,\n",
    "    diffusion_config=diffusion_config,\n",
    "    device=device,\n",
    "    ema=False\n",
    ")\n",
    "\n",
    "color_model = load_model_for_inference(\n",
    "    model_path=\"runs/experiment_two_stage/color/best_model/model\",\n",
    "    voxel_config=color_voxel_config,\n",
    "    diffusion_config=diffusion_config,\n",
    "    device=device,\n",
    "    ema=False\n",
    ")"
   ]
  },
  {
   "cell_type": "markdown",
   "id": "7cbb6a71-2be4-4228-b514-885732913801",
   "metadata": {},
   "source": [
    "# Load inference object to call all visualization/inference pipelines"
   ]
  },
  {
   "cell_type": "code",
   "execution_count": null,
   "id": "57ce9ede-0341-4eb3-9c19-ab9fc0451fbf",
   "metadata": {},
   "outputs": [],
   "source": [
    "inferencer = DiffusionInference3D(\n",
    "    model=shape_model,\n",
    "    noise_scheduler=shape_model.noise_scheduler,\n",
    "    color_model=color_model,\n",
    "    color_noise_scheduler=color_model.noise_scheduler,\n",
    "    device=device\n",
    ")"
   ]
  },
  {
   "cell_type": "markdown",
   "id": "a842240f-4362-4273-96af-c3d5a96954f9",
   "metadata": {},
   "source": [
    "# Check report/readme/code for all choices in inference"
   ]
  },
  {
   "cell_type": "code",
   "execution_count": null,
   "id": "3c1d1b61-30f1-4441-a4ae-69a225883e2c",
   "metadata": {},
   "outputs": [],
   "source": [
    "samples = inferencer.sample_two_stage(\n",
    "    prompt=\"A tree\",\n",
    "    num_samples=1,\n",
    "    image_size=(32, 32, 32),\n",
    "    guidance_scale=20.0,\n",
    "    color_guidance_scale=20.0,\n",
    "    show_after_shape=True,\n",
    "    use_rotations=False,\n",
    "    use_mean_init=False\n",
    ")"
   ]
  },
  {
   "cell_type": "code",
   "execution_count": null,
   "id": "e30bf0fe-6d70-4f7a-99da-4afea9911272",
   "metadata": {},
   "outputs": [],
   "source": [
    "inferencer.visualize_samples(samples, prompt=\"A tree\", threshold=0.5, save_path=\"output/tree.png\")"
   ]
  }
 ],
 "metadata": {
  "kernelspec": {
   "display_name": "Python 3 (ipykernel)",
   "language": "python",
   "name": "python3"
  },
  "language_info": {
   "codemirror_mode": {
    "name": "ipython",
    "version": 3
   },
   "file_extension": ".py",
   "mimetype": "text/x-python",
   "name": "python",
   "nbconvert_exporter": "python",
   "pygments_lexer": "ipython3",
   "version": "3.10.6"
  }
 },
 "nbformat": 4,
 "nbformat_minor": 5
}

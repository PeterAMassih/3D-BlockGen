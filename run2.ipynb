{
 "cells": [
  {
   "cell_type": "code",
   "execution_count": 8,
   "id": "aac79bcc-9ad7-4359-a305-94b079795d0d",
   "metadata": {},
   "outputs": [
    {
     "name": "stdout",
     "output_type": "stream",
     "text": [
      "The autoreload extension is already loaded. To reload it, use:\n",
      "  %reload_ext autoreload\n"
     ]
    }
   ],
   "source": [
    "%load_ext autoreload\n",
    "%autoreload 2\n",
    "%matplotlib inline"
   ]
  },
  {
   "cell_type": "code",
   "execution_count": 2,
   "id": "741c5c63-c864-4af2-a9f7-bd0e69a70109",
   "metadata": {
    "scrolled": true
   },
   "outputs": [
    {
     "name": "stdout",
     "output_type": "stream",
     "text": [
      "Defaulting to user installation because normal site-packages is not writeable\n",
      "Looking in indexes: https://pypi.org/simple, https://pypi.ngc.nvidia.com\n",
      "Requirement already satisfied: torch in /usr/local/lib/python3.10/dist-packages (from -r requirements.txt (line 1)) (2.0.1+cu117)\n",
      "Requirement already satisfied: torchvision in /usr/local/lib/python3.10/dist-packages (from -r requirements.txt (line 2)) (0.15.2+cu117)\n",
      "Requirement already satisfied: matplotlib in /usr/local/lib/python3.10/dist-packages (from -r requirements.txt (line 3)) (3.7.1)\n",
      "Requirement already satisfied: numpy in /usr/local/lib/python3.10/dist-packages (from -r requirements.txt (line 4)) (1.22.2)\n",
      "Requirement already satisfied: tqdm in /usr/local/lib/python3.10/dist-packages (from -r requirements.txt (line 5)) (4.67.1)\n",
      "Requirement already satisfied: diffusers==0.31.0 in /usr/local/lib/python3.10/dist-packages (from -r requirements.txt (line 6)) (0.31.0)\n",
      "Requirement already satisfied: transformers in /usr/local/lib/python3.10/dist-packages (from -r requirements.txt (line 7)) (4.48.0)\n",
      "Requirement already satisfied: accelerate in /usr/local/lib/python3.10/dist-packages (from -r requirements.txt (line 8)) (1.2.1)\n",
      "Requirement already satisfied: scipy in /usr/local/lib/python3.10/dist-packages (from -r requirements.txt (line 9)) (1.10.1)\n",
      "Requirement already satisfied: scikit-learn in /usr/local/lib/python3.10/dist-packages (from -r requirements.txt (line 10)) (1.2.0)\n",
      "Requirement already satisfied: pandas in /usr/local/lib/python3.10/dist-packages (from -r requirements.txt (line 11)) (1.5.2)\n",
      "Requirement already satisfied: trimesh in /usr/local/lib/python3.10/dist-packages (from -r requirements.txt (line 12)) (4.5.3)\n",
      "Requirement already satisfied: objaverse in /usr/local/lib/python3.10/dist-packages (from -r requirements.txt (line 13)) (0.1.7)\n",
      "Requirement already satisfied: wandb in /usr/local/lib/python3.10/dist-packages (from -r requirements.txt (line 14)) (0.19.2)\n",
      "Requirement already satisfied: datasets in /usr/local/lib/python3.10/dist-packages (from -r requirements.txt (line 15)) (3.2.0)\n",
      "Requirement already satisfied: iopath in /usr/local/lib/python3.10/dist-packages (from -r requirements.txt (line 16)) (0.1.10)\n",
      "Requirement already satisfied: importlib-metadata in /usr/local/lib/python3.10/dist-packages (from diffusers==0.31.0->-r requirements.txt (line 6)) (6.6.0)\n",
      "Requirement already satisfied: filelock in /usr/local/lib/python3.10/dist-packages (from diffusers==0.31.0->-r requirements.txt (line 6)) (3.12.0)\n",
      "Requirement already satisfied: huggingface-hub>=0.23.2 in /usr/local/lib/python3.10/dist-packages (from diffusers==0.31.0->-r requirements.txt (line 6)) (0.27.1)\n",
      "Requirement already satisfied: regex!=2019.12.17 in /usr/local/lib/python3.10/dist-packages (from diffusers==0.31.0->-r requirements.txt (line 6)) (2023.5.5)\n",
      "Requirement already satisfied: requests in /usr/local/lib/python3.10/dist-packages (from diffusers==0.31.0->-r requirements.txt (line 6)) (2.32.3)\n",
      "Requirement already satisfied: safetensors>=0.3.1 in /usr/local/lib/python3.10/dist-packages (from diffusers==0.31.0->-r requirements.txt (line 6)) (0.5.2)\n",
      "Requirement already satisfied: Pillow in /usr/local/lib/python3.10/dist-packages (from diffusers==0.31.0->-r requirements.txt (line 6)) (9.2.0)\n",
      "Requirement already satisfied: typing-extensions in /usr/local/lib/python3.10/dist-packages (from torch->-r requirements.txt (line 1)) (4.12.2)\n",
      "Requirement already satisfied: sympy in /usr/local/lib/python3.10/dist-packages (from torch->-r requirements.txt (line 1)) (1.12)\n",
      "Requirement already satisfied: networkx in /usr/local/lib/python3.10/dist-packages (from torch->-r requirements.txt (line 1)) (2.6.3)\n",
      "Requirement already satisfied: jinja2 in /usr/local/lib/python3.10/dist-packages (from torch->-r requirements.txt (line 1)) (3.1.2)\n",
      "Requirement already satisfied: triton==2.0.0 in /usr/local/lib/python3.10/dist-packages (from torch->-r requirements.txt (line 1)) (2.0.0)\n",
      "Requirement already satisfied: cmake in /usr/local/lib/python3.10/dist-packages (from triton==2.0.0->torch->-r requirements.txt (line 1)) (3.24.1.1)\n",
      "Requirement already satisfied: lit in /usr/local/lib/python3.10/dist-packages (from triton==2.0.0->torch->-r requirements.txt (line 1)) (16.0.5)\n",
      "Requirement already satisfied: contourpy>=1.0.1 in /usr/local/lib/python3.10/dist-packages (from matplotlib->-r requirements.txt (line 3)) (1.0.7)\n",
      "Requirement already satisfied: cycler>=0.10 in /usr/local/lib/python3.10/dist-packages (from matplotlib->-r requirements.txt (line 3)) (0.11.0)\n",
      "Requirement already satisfied: fonttools>=4.22.0 in /usr/local/lib/python3.10/dist-packages (from matplotlib->-r requirements.txt (line 3)) (4.39.3)\n",
      "Requirement already satisfied: kiwisolver>=1.0.1 in /usr/local/lib/python3.10/dist-packages (from matplotlib->-r requirements.txt (line 3)) (1.4.4)\n",
      "Requirement already satisfied: packaging>=20.0 in /usr/local/lib/python3.10/dist-packages (from matplotlib->-r requirements.txt (line 3)) (23.1)\n",
      "Requirement already satisfied: pyparsing>=2.3.1 in /usr/local/lib/python3.10/dist-packages (from matplotlib->-r requirements.txt (line 3)) (3.0.9)\n",
      "Requirement already satisfied: python-dateutil>=2.7 in /usr/local/lib/python3.10/dist-packages (from matplotlib->-r requirements.txt (line 3)) (2.8.2)\n",
      "Requirement already satisfied: pyyaml>=5.1 in /usr/local/lib/python3.10/dist-packages (from transformers->-r requirements.txt (line 7)) (6.0)\n",
      "Requirement already satisfied: tokenizers<0.22,>=0.21 in /usr/local/lib/python3.10/dist-packages (from transformers->-r requirements.txt (line 7)) (0.21.0)\n",
      "Requirement already satisfied: psutil in /usr/local/lib/python3.10/dist-packages (from accelerate->-r requirements.txt (line 8)) (5.9.4)\n",
      "Requirement already satisfied: joblib>=1.1.1 in /usr/local/lib/python3.10/dist-packages (from scikit-learn->-r requirements.txt (line 10)) (1.2.0)\n",
      "Requirement already satisfied: threadpoolctl>=2.0.0 in /usr/local/lib/python3.10/dist-packages (from scikit-learn->-r requirements.txt (line 10)) (3.1.0)\n",
      "Requirement already satisfied: pytz>=2020.1 in /usr/local/lib/python3.10/dist-packages (from pandas->-r requirements.txt (line 11)) (2023.3)\n",
      "Requirement already satisfied: pyarrow in /usr/local/lib/python3.10/dist-packages (from objaverse->-r requirements.txt (line 13)) (18.1.0)\n",
      "Requirement already satisfied: loguru in /usr/local/lib/python3.10/dist-packages (from objaverse->-r requirements.txt (line 13)) (0.7.3)\n",
      "Requirement already satisfied: fsspec>=2022.11.0 in /usr/local/lib/python3.10/dist-packages (from objaverse->-r requirements.txt (line 13)) (2024.9.0)\n",
      "Requirement already satisfied: gputil==1.4.0 in /usr/local/lib/python3.10/dist-packages (from objaverse->-r requirements.txt (line 13)) (1.4.0)\n",
      "Requirement already satisfied: click!=8.0.0,>=7.1 in /usr/local/lib/python3.10/dist-packages (from wandb->-r requirements.txt (line 14)) (8.1.3)\n",
      "Requirement already satisfied: docker-pycreds>=0.4.0 in /usr/local/lib/python3.10/dist-packages (from wandb->-r requirements.txt (line 14)) (0.4.0)\n",
      "Requirement already satisfied: gitpython!=3.1.29,>=1.0.0 in /usr/local/lib/python3.10/dist-packages (from wandb->-r requirements.txt (line 14)) (3.1.44)\n",
      "Requirement already satisfied: platformdirs in /usr/local/lib/python3.10/dist-packages (from wandb->-r requirements.txt (line 14)) (3.5.1)\n",
      "Requirement already satisfied: protobuf!=4.21.0,!=5.28.0,<6,>=3.19.0 in /usr/local/lib/python3.10/dist-packages (from wandb->-r requirements.txt (line 14)) (3.20.3)\n",
      "Requirement already satisfied: pydantic<3,>=2.6 in /usr/local/lib/python3.10/dist-packages (from wandb->-r requirements.txt (line 14)) (2.10.5)\n",
      "Requirement already satisfied: sentry-sdk>=2.0.0 in /usr/local/lib/python3.10/dist-packages (from wandb->-r requirements.txt (line 14)) (2.19.2)\n",
      "Requirement already satisfied: setproctitle in /usr/local/lib/python3.10/dist-packages (from wandb->-r requirements.txt (line 14)) (1.3.4)\n",
      "Requirement already satisfied: setuptools in /usr/local/lib/python3.10/dist-packages (from wandb->-r requirements.txt (line 14)) (65.5.1)\n",
      "Requirement already satisfied: dill<0.3.9,>=0.3.0 in /usr/local/lib/python3.10/dist-packages (from datasets->-r requirements.txt (line 15)) (0.3.8)\n",
      "Requirement already satisfied: xxhash in /usr/local/lib/python3.10/dist-packages (from datasets->-r requirements.txt (line 15)) (3.5.0)\n",
      "Requirement already satisfied: multiprocess<0.70.17 in /usr/local/lib/python3.10/dist-packages (from datasets->-r requirements.txt (line 15)) (0.70.16)\n",
      "Requirement already satisfied: aiohttp in /usr/local/lib/python3.10/dist-packages (from datasets->-r requirements.txt (line 15)) (3.8.4)\n",
      "Requirement already satisfied: portalocker in /usr/local/lib/python3.10/dist-packages (from iopath->-r requirements.txt (line 16)) (3.1.1)\n",
      "Requirement already satisfied: six>=1.4.0 in /usr/local/lib/python3.10/dist-packages (from docker-pycreds>=0.4.0->wandb->-r requirements.txt (line 14)) (1.16.0)\n",
      "Requirement already satisfied: attrs>=17.3.0 in /usr/local/lib/python3.10/dist-packages (from aiohttp->datasets->-r requirements.txt (line 15)) (23.1.0)\n",
      "Requirement already satisfied: charset-normalizer<4.0,>=2.0 in /usr/local/lib/python3.10/dist-packages (from aiohttp->datasets->-r requirements.txt (line 15)) (3.1.0)\n",
      "Requirement already satisfied: multidict<7.0,>=4.5 in /usr/local/lib/python3.10/dist-packages (from aiohttp->datasets->-r requirements.txt (line 15)) (6.0.4)\n",
      "Requirement already satisfied: async-timeout<5.0,>=4.0.0a3 in /usr/local/lib/python3.10/dist-packages (from aiohttp->datasets->-r requirements.txt (line 15)) (4.0.2)\n",
      "Requirement already satisfied: yarl<2.0,>=1.0 in /usr/local/lib/python3.10/dist-packages (from aiohttp->datasets->-r requirements.txt (line 15)) (1.9.2)\n",
      "Requirement already satisfied: frozenlist>=1.1.1 in /usr/local/lib/python3.10/dist-packages (from aiohttp->datasets->-r requirements.txt (line 15)) (1.3.3)\n",
      "Requirement already satisfied: aiosignal>=1.1.2 in /usr/local/lib/python3.10/dist-packages (from aiohttp->datasets->-r requirements.txt (line 15)) (1.3.1)\n",
      "Requirement already satisfied: gitdb<5,>=4.0.1 in /usr/local/lib/python3.10/dist-packages (from gitpython!=3.1.29,>=1.0.0->wandb->-r requirements.txt (line 14)) (4.0.12)\n",
      "Requirement already satisfied: annotated-types>=0.6.0 in /usr/local/lib/python3.10/dist-packages (from pydantic<3,>=2.6->wandb->-r requirements.txt (line 14)) (0.7.0)\n",
      "Requirement already satisfied: pydantic-core==2.27.2 in /usr/local/lib/python3.10/dist-packages (from pydantic<3,>=2.6->wandb->-r requirements.txt (line 14)) (2.27.2)\n",
      "Requirement already satisfied: idna<4,>=2.5 in /usr/local/lib/python3.10/dist-packages (from requests->diffusers==0.31.0->-r requirements.txt (line 6)) (3.4)\n",
      "Requirement already satisfied: urllib3<3,>=1.21.1 in /usr/local/lib/python3.10/dist-packages (from requests->diffusers==0.31.0->-r requirements.txt (line 6)) (1.26.15)\n",
      "Requirement already satisfied: certifi>=2017.4.17 in /usr/local/lib/python3.10/dist-packages (from requests->diffusers==0.31.0->-r requirements.txt (line 6)) (2022.12.7)\n",
      "Requirement already satisfied: zipp>=0.5 in /usr/local/lib/python3.10/dist-packages (from importlib-metadata->diffusers==0.31.0->-r requirements.txt (line 6)) (3.15.0)\n",
      "Requirement already satisfied: MarkupSafe>=2.0 in /usr/local/lib/python3.10/dist-packages (from jinja2->torch->-r requirements.txt (line 1)) (2.1.2)\n",
      "Requirement already satisfied: mpmath>=0.19 in /usr/local/lib/python3.10/dist-packages (from sympy->torch->-r requirements.txt (line 1)) (1.3.0)\n",
      "Requirement already satisfied: smmap<6,>=3.0.1 in /usr/local/lib/python3.10/dist-packages (from gitdb<5,>=4.0.1->gitpython!=3.1.29,>=1.0.0->wandb->-r requirements.txt (line 14)) (5.0.2)\n",
      "Defaulting to user installation because normal site-packages is not writeable\n",
      "Looking in indexes: https://pypi.org/simple, https://pypi.ngc.nvidia.com\n",
      "Requirement already satisfied: iopath in /usr/local/lib/python3.10/dist-packages (0.1.10)\n",
      "Requirement already satisfied: tqdm in /usr/local/lib/python3.10/dist-packages (from iopath) (4.67.1)\n",
      "Requirement already satisfied: typing-extensions in /usr/local/lib/python3.10/dist-packages (from iopath) (4.12.2)\n",
      "Requirement already satisfied: portalocker in /usr/local/lib/python3.10/dist-packages (from iopath) (3.1.1)\n",
      "Defaulting to user installation because normal site-packages is not writeable\n",
      "Looking in links: https://dl.fbaipublicfiles.com/pytorch3d/packaging/wheels/py310_cu117_pyt201/download.html\n",
      "Requirement already satisfied: pytorch3d in /usr/local/lib/python3.10/dist-packages (0.7.4)\n",
      "pip install --no-deps --no-index --no-cache-dir pytorch3d -f https://dl.fbaipublicfiles.com/pytorch3d/packaging/wheels/py310_cu117_pyt201/download.html\n"
     ]
    }
   ],
   "source": [
    "# Restart kernel after runnning this cell for the imports to take actions, not needed if using new v3 image\n",
    "import sys\n",
    "import torch\n",
    "\n",
    "pyt_version_str=torch.__version__.split(\"+\")[0].replace(\".\", \"\")\n",
    "version_str=\"\".join([\n",
    "    f\"py3{sys.version_info.minor}_cu\",\n",
    "    torch.version.cuda.replace(\".\",\"\"),\n",
    "    f\"_pyt{pyt_version_str}\"\n",
    "])\n",
    "\n",
    "!pip install -r requirements.txt\n",
    "!pip install iopath\n",
    "!pip install --no-deps --no-index --no-cache-dir pytorch3d -f https://dl.fbaipublicfiles.com/pytorch3d/packaging/wheels/{version_str}/download.html\n",
    "\n",
    "print(f\"pip install --no-deps --no-index --no-cache-dir pytorch3d -f https://dl.fbaipublicfiles.com/pytorch3d/packaging/wheels/{version_str}/download.html\")"
   ]
  },
  {
   "cell_type": "code",
   "execution_count": 9,
   "id": "365734f1-8677-4af7-a4e2-01fd866b5a8f",
   "metadata": {},
   "outputs": [],
   "source": [
    "# Full imports\n",
    "import torch\n",
    "from blockgen.configs import VoxelConfig, DiffusionConfig\n",
    "from blockgen.utils import create_model_and_trainer, create_dataloaders\n",
    "from blockgen.inference import DiffusionInference3D\n",
    "from scripts.generate import load_model_for_inference\n",
    "from blockgen.utils.metrics import compute_metrics\n",
    "from blockgen.utils.evaluate import evaluate_generation\n",
    "from scripts.legolize import LegoConverter"
   ]
  },
  {
   "cell_type": "code",
   "execution_count": 10,
   "id": "20445b22-5aeb-42ed-92aa-709383361c8c",
   "metadata": {},
   "outputs": [
    {
     "name": "stdout",
     "output_type": "stream",
     "text": [
      "Using device: cuda\n",
      "GPU: NVIDIA A100-SXM4-40GB\n"
     ]
    }
   ],
   "source": [
    "device = torch.device('cuda' if torch.cuda.is_available() else 'cpu')\n",
    "print(f\"Using device: {device}\")\n",
    "if torch.cuda.is_available():\n",
    "    print(f\"GPU: {torch.cuda.get_device_name(0)}\")"
   ]
  },
  {
   "cell_type": "code",
   "execution_count": 11,
   "id": "2cefb471-1fda-4a98-a061-4e6c9196d5e3",
   "metadata": {},
   "outputs": [],
   "source": [
    "# Configs for two_stage\n",
    "shape_voxel_config = VoxelConfig(\n",
    "        mode='two_stage',\n",
    "        stage='shape',\n",
    "        default_color=[0.5, 0.5, 0.5],\n",
    "        alpha_weight=1.0,\n",
    "        rgb_weight=1.0\n",
    "    )\n",
    "\n",
    "color_voxel_config = VoxelConfig(\n",
    "        mode='two_stage',\n",
    "        stage='color',\n",
    "        default_color=[0.5, 0.5, 0.5],\n",
    "        alpha_weight=1.0,\n",
    "        rgb_weight=1.0\n",
    "    )\n",
    "\n",
    "shape_diffusion_config = DiffusionConfig(\n",
    "        num_timesteps=1000,\n",
    "        use_ema=True,  # Enable EMA\n",
    "        ema_decay=0.9999,\n",
    "        ema_update_after_step=0,\n",
    "        ema_device=device,\n",
    "        use_ddim=False, \n",
    "        seed=42 \n",
    "    )\n",
    "\n",
    "color_diffusion_config = DiffusionConfig(\n",
    "        num_timesteps=1000,\n",
    "        use_ema=True,  # Enable EMA\n",
    "        ema_decay=0.9999,\n",
    "        ema_update_after_step=0,\n",
    "        ema_device=device,\n",
    "        use_ddim=False, \n",
    "        seed=42 \n",
    "    )\n",
    "\n",
    "# Configs for Combined RGBA (Simple) \n",
    "\n",
    "combined_voxel_config_simple = VoxelConfig(\n",
    "    mode='combined', \n",
    "    stage=None,  \n",
    "    default_color=[0.5, 0.5, 0.5],\n",
    "    alpha_weight=1.0,\n",
    "    rgb_weight=1.0,\n",
    "    use_simple_mse=True\n",
    ")\n",
    "\n",
    "combined_diffusion_config_simple = DiffusionConfig(\n",
    "    num_timesteps=1000,\n",
    "    use_ema=True,  # Enable EMA\n",
    "    ema_decay=0.9999,\n",
    "    ema_update_after_step=0,\n",
    "    ema_device=device,\n",
    "    use_ddim=False, \n",
    "    seed=42 \n",
    ")\n",
    "\n",
    "# Configs for Combined RGBA (Weighted) \n",
    "\n",
    "combined_voxel_config_weighted = VoxelConfig(\n",
    "    mode='combined', \n",
    "    stage=None,  \n",
    "    default_color=[0.5, 0.5, 0.5],\n",
    "    alpha_weight=1.0,\n",
    "    rgb_weight=1.0,\n",
    "    use_simple_mse=False\n",
    ")\n",
    "\n",
    "combined_diffusion_config_weighted = DiffusionConfig(\n",
    "    num_timesteps=1000,\n",
    "    use_ema=True,  # Enable EMA\n",
    "    ema_decay=0.9999,\n",
    "    ema_update_after_step=0,\n",
    "    ema_device=device,\n",
    "    use_ddim=False, \n",
    "    seed=42 \n",
    ")"
   ]
  },
  {
   "cell_type": "markdown",
   "id": "7ba3fc27-3c97-4a9c-b52c-380247aa71e1",
   "metadata": {},
   "source": [
    "## Ablation Continuation"
   ]
  },
  {
   "cell_type": "markdown",
   "id": "278a1fd2-766c-407d-b26f-20b3f6f8ca1e",
   "metadata": {},
   "source": [
    "### EMA vs No EMA"
   ]
  },
  {
   "cell_type": "code",
   "execution_count": 12,
   "id": "6976e551-ea06-440b-9646-6e2c92e484d2",
   "metadata": {},
   "outputs": [
    {
     "name": "stdout",
     "output_type": "stream",
     "text": [
      "The number of input channels is: 1 The number of out channels is1\n"
     ]
    },
    {
     "name": "stderr",
     "output_type": "stream",
     "text": [
      "The config attributes {'decay': 0.9999, 'inv_gamma': 1.0, 'min_decay': 0.0, 'optimization_step': 120000, 'power': 0.6666666666666666, 'update_after_step': 0, 'use_ema_warmup': False} were passed to UNet3DConditionModel, but are not expected and will be ignored. Please verify your config.json configuration file.\n"
     ]
    },
    {
     "name": "stdout",
     "output_type": "stream",
     "text": [
      "Total parameters: 120096449\n",
      "Loaded EMA model weights\n",
      "The number of input channels is: 4 The number of out channels is3\n"
     ]
    },
    {
     "name": "stderr",
     "output_type": "stream",
     "text": [
      "The config attributes {'decay': 0.9999, 'inv_gamma': 1.0, 'min_decay': 0.0, 'optimization_step': 110000, 'power': 0.6666666666666666, 'update_after_step': 0, 'use_ema_warmup': False} were passed to UNet3DConditionModel, but are not expected and will be ignored. Please verify your config.json configuration file.\n"
     ]
    },
    {
     "name": "stdout",
     "output_type": "stream",
     "text": [
      "Total parameters: 120099331\n",
      "Loaded EMA model weights\n"
     ]
    }
   ],
   "source": [
    "shape_model = load_model_for_inference(\n",
    "        model_path=\"runs/experiment_two_stage/shape/best_model/model\",\n",
    "        voxel_config=shape_voxel_config,\n",
    "        diffusion_config=shape_diffusion_config,\n",
    "        device='cuda',\n",
    "        ema=True\n",
    "    )\n",
    "\n",
    "color_model = load_model_for_inference(\n",
    "        model_path=\"runs/experiment_two_stage/color/best_model/model\",\n",
    "        voxel_config=color_voxel_config,\n",
    "        diffusion_config=color_diffusion_config,\n",
    "        device='cuda',\n",
    "        ema=True\n",
    "    )"
   ]
  },
  {
   "cell_type": "code",
   "execution_count": 14,
   "id": "d41df91f-a4bf-4940-8774-8aa294400e05",
   "metadata": {
    "collapsed": true,
    "jupyter": {
     "outputs_hidden": true
    },
    "scrolled": true
   },
   "outputs": [
    {
     "name": "stdout",
     "output_type": "stream",
     "text": [
      "Evaluating 8 samples\n"
     ]
    },
    {
     "name": "stderr",
     "output_type": "stream",
     "text": [
      "Evaluating samples:   0%|                                 | 0/8 [00:00<?, ?it/s]\n",
      "\u001b[A"
     ]
    },
    {
     "name": "stdout",
     "output_type": "stream",
     "text": [
      "Stage 1: Generating shapes...\n",
      "\n",
      "Stage 2: Adding colors...\n"
     ]
    },
    {
     "name": "stderr",
     "output_type": "stream",
     "text": [
      "\n",
      "Evaluating samples:  12%|███                     | 1/8 [04:58<34:49, 298.48s/it] 0.537"
     ]
    },
    {
     "name": "stdout",
     "output_type": "stream",
     "text": [
      "Stage 1: Generating shapes...\n",
      "\n",
      "Stage 2: Adding colors...\n"
     ]
    },
    {
     "name": "stderr",
     "output_type": "stream",
     "text": [
      "\n",
      "Evaluating samples:  25%|██████                  | 2/8 [09:56<29:50, 298.43s/it] 0.537"
     ]
    },
    {
     "name": "stdout",
     "output_type": "stream",
     "text": [
      "Stage 1: Generating shapes...\n",
      "\n",
      "Stage 2: Adding colors...\n"
     ]
    },
    {
     "name": "stderr",
     "output_type": "stream",
     "text": [
      "\n",
      "Evaluating samples:  38%|█████████               | 3/8 [14:55<24:51, 298.34s/it] 0.537"
     ]
    },
    {
     "name": "stdout",
     "output_type": "stream",
     "text": [
      "Stage 1: Generating shapes...\n",
      "\n",
      "Stage 2: Adding colors...\n"
     ]
    },
    {
     "name": "stderr",
     "output_type": "stream",
     "text": [
      "\n",
      "Evaluating samples:  50%|████████████            | 4/8 [19:53<19:53, 298.35s/it] 0.476"
     ]
    },
    {
     "name": "stdout",
     "output_type": "stream",
     "text": [
      "Stage 1: Generating shapes...\n",
      "\n",
      "Stage 2: Adding colors...\n"
     ]
    },
    {
     "name": "stderr",
     "output_type": "stream",
     "text": [
      "\n",
      "Evaluating samples:  62%|███████████████         | 5/8 [24:52<14:55, 298.47s/it] 0.476"
     ]
    },
    {
     "name": "stdout",
     "output_type": "stream",
     "text": [
      "Stage 1: Generating shapes...\n",
      "\n",
      "Stage 2: Adding colors...\n"
     ]
    },
    {
     "name": "stderr",
     "output_type": "stream",
     "text": [
      "\n",
      "Evaluating samples:  75%|██████████████████      | 6/8 [29:50<09:57, 298.54s/it] 0.491"
     ]
    },
    {
     "name": "stdout",
     "output_type": "stream",
     "text": [
      "Stage 1: Generating shapes...\n",
      "\n",
      "Stage 2: Adding colors...\n"
     ]
    },
    {
     "name": "stderr",
     "output_type": "stream",
     "text": [
      "\n",
      "Evaluating samples:  88%|█████████████████████   | 7/8 [34:49<04:58, 298.56s/it] 0.491"
     ]
    },
    {
     "name": "stdout",
     "output_type": "stream",
     "text": [
      "Stage 1: Generating shapes...\n",
      "\n",
      "Stage 2: Adding colors...\n"
     ]
    },
    {
     "name": "stderr",
     "output_type": "stream",
     "text": [
      "\n",
      "Evaluating samples: 100%|████████████████████████| 8/8 [39:48<00:00, 298.51s/it] 0.491\n",
      "Current Averages | iou: 0.039 | f1: 0.070 | color_score: 0.836 | combined_score: 0.491"
     ]
    },
    {
     "name": "stdout",
     "output_type": "stream",
     "text": [
      "\n",
      "Evaluation Results:\n",
      "--------------------------------------------------\n",
      "iou            : 0.0394\n",
      "f1             : 0.0701\n",
      "color_score    : 0.8358\n",
      "combined_score : 0.4909\n"
     ]
    },
    {
     "name": "stderr",
     "output_type": "stream",
     "text": [
      "\n"
     ]
    }
   ],
   "source": [
    "# Get baseline for ablation\n",
    "test_data_dir = \"evaluation_set_voxelized\"\n",
    "annotation_file = \"evaluation_set/annotations.json\"\n",
    "\n",
    "# For two-stage model\n",
    "metrics = evaluate_generation(\n",
    "    model=shape_model,\n",
    "    color_model=color_model,  # Required for two_stage\n",
    "    model_type='two_stage',\n",
    "    test_data_dir=test_data_dir,\n",
    "    annotation_file=annotation_file,\n",
    "    guidance_scale=20.0,\n",
    "    color_guidance_scale=20.0,\n",
    "    use_rotations=False,\n",
    "    device='cuda'\n",
    ")\n",
    "\n",
    "print(\"\\nEvaluation Results:\")\n",
    "print(\"-\" * 50)\n",
    "for metric_name, value in metrics.items():\n",
    "    print(f\"{metric_name:15s}: {value:.4f}\")"
   ]
  },
  {
   "cell_type": "markdown",
   "id": "85e74634-c557-47f0-a374-e60fd41f100f",
   "metadata": {},
   "source": [
    "### rotation-aug sampling vs no rot aug sampl"
   ]
  },
  {
   "cell_type": "code",
   "execution_count": null,
   "id": "674b0dce-9701-40fb-ba73-5c9e16d80280",
   "metadata": {
    "scrolled": true
   },
   "outputs": [
    {
     "name": "stdout",
     "output_type": "stream",
     "text": [
      "\n",
      "Starting evaluation of 8 samples...\n",
      "Model type: two_stage\n",
      "Guidance scale: 20.0, Color guidance: 20.0\n",
      "--------------------------------------------------\n"
     ]
    },
    {
     "name": "stderr",
     "output_type": "stream",
     "text": [
      "Overall Progress:   0%|                                                       | 0/8 [00:00<?, ?it/s]\n",
      "\u001b[Arics | Waiting for first sample..."
     ]
    },
    {
     "name": "stdout",
     "output_type": "stream",
     "text": [
      "Stage 1: Generating shapes...\n",
      "\n",
      "Stage 2: Adding colors...\n"
     ]
    },
    {
     "name": "stderr",
     "output_type": "stream",
     "text": [
      "\n",
      "Processing (1/8):  12%|█████▌                                      | 1/8 [14:51<1:44:01, 891.60s/it]"
     ]
    },
    {
     "name": "stdout",
     "output_type": "stream",
     "text": [
      "Stage 1: Generating shapes...\n",
      "\n",
      "Stage 2: Adding colors...\n"
     ]
    },
    {
     "name": "stderr",
     "output_type": "stream",
     "text": [
      "\n",
      "Processing (2/8):  25%|███████████                                 | 2/8 [29:42<1:29:08, 891.48s/it]"
     ]
    },
    {
     "name": "stdout",
     "output_type": "stream",
     "text": [
      "Stage 1: Generating shapes...\n",
      "\n",
      "Stage 2: Adding colors...\n"
     ]
    },
    {
     "name": "stderr",
     "output_type": "stream",
     "text": [
      "\n",
      "Processing (3/8):  38%|████████████████▌                           | 3/8 [44:34<1:14:16, 891.29s/it]"
     ]
    },
    {
     "name": "stdout",
     "output_type": "stream",
     "text": [
      "Stage 1: Generating shapes...\n",
      "\n",
      "Stage 2: Adding colors...\n"
     ]
    },
    {
     "name": "stderr",
     "output_type": "stream",
     "text": [
      "\n",
      "Processing (4/8):  50%|███████████████████████                       | 4/8 [59:26<59:26, 891.62s/it]"
     ]
    },
    {
     "name": "stdout",
     "output_type": "stream",
     "text": [
      "Stage 1: Generating shapes...\n",
      "\n",
      "Stage 2: Adding colors...\n"
     ]
    },
    {
     "name": "stderr",
     "output_type": "stream",
     "text": [
      "\n",
      "Processing (5/8):  62%|███████████████████████████▌                | 5/8 [1:14:19<44:36, 892.29s/it]"
     ]
    },
    {
     "name": "stdout",
     "output_type": "stream",
     "text": [
      "Stage 1: Generating shapes...\n",
      "\n",
      "Stage 2: Adding colors...\n"
     ]
    },
    {
     "name": "stderr",
     "output_type": "stream",
     "text": [
      "\n",
      "Processing (6/8):  75%|█████████████████████████████████           | 6/8 [1:29:13<29:45, 892.76s/it]"
     ]
    },
    {
     "name": "stdout",
     "output_type": "stream",
     "text": [
      "Stage 1: Generating shapes...\n",
      "\n",
      "Stage 2: Adding colors...\n"
     ]
    },
    {
     "name": "stderr",
     "output_type": "stream",
     "text": [
      "\n",
      "Processing (7/8):  88%|██████████████████████████████████████▌     | 7/8 [1:44:06<14:52, 892.97s/it]"
     ]
    },
    {
     "name": "stdout",
     "output_type": "stream",
     "text": [
      "Stage 1: Generating shapes...\n"
     ]
    }
   ],
   "source": [
    "# Get baseline for ablation\n",
    "test_data_dir = \"evaluation_set_voxelized\"\n",
    "annotation_file = \"evaluation_set/annotations.json\"\n",
    "\n",
    "# For two-stage model\n",
    "metrics = evaluate_generation(\n",
    "    model=shape_model,\n",
    "    color_model=color_model,  # Required for two_stage\n",
    "    model_type='two_stage',\n",
    "    test_data_dir=test_data_dir,\n",
    "    annotation_file=annotation_file,\n",
    "    guidance_scale=20.0,\n",
    "    color_guidance_scale=20.0,\n",
    "    use_rotations=True,\n",
    "    use_mean_init=False,\n",
    "    device='cuda'\n",
    ")\n",
    "\n",
    "print(\"\\nEvaluation Results:\")\n",
    "print(\"-\" * 50)\n",
    "for metric_name, value in metrics.items():\n",
    "    print(f\"{metric_name:15s}: {value:.4f}\")"
   ]
  },
  {
   "cell_type": "code",
   "execution_count": null,
   "id": "35f6b666-f257-4943-9a6b-a661dbc8ade1",
   "metadata": {},
   "outputs": [],
   "source": []
  }
 ],
 "metadata": {
  "kernelspec": {
   "display_name": "Python 3 (ipykernel)",
   "language": "python",
   "name": "python3"
  },
  "language_info": {
   "codemirror_mode": {
    "name": "ipython",
    "version": 3
   },
   "file_extension": ".py",
   "mimetype": "text/x-python",
   "name": "python",
   "nbconvert_exporter": "python",
   "pygments_lexer": "ipython3",
   "version": "3.10.6"
  }
 },
 "nbformat": 4,
 "nbformat_minor": 5
}
